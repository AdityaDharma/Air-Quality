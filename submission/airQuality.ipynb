{
  "cells": [
    {
      "cell_type": "markdown",
      "metadata": {
        "id": "cP5zh7Ww85Fm"
      },
      "source": [
        "# Data Analysis Project: Air Quality Dataset\n",
        "- Nama: Putu Agus Aditya Dharma\n",
        "- Email: aditya.dharma.agus@gmail.com\n",
        "- Id Dicoding: adityadharma"
      ]
    },
    {
      "cell_type": "markdown",
      "metadata": {
        "id": "ggwOFmpI88dG"
      },
      "source": [
        "## Defining Business Questions\n",
        "- Apakah ada perbedaan signifikan polutan udara di berbagai lokasi pertahun?\n",
        "- Di mana lokasi dengan kualitas udara tertinggi atau terendah?"
      ]
    },
    {
      "cell_type": "markdown",
      "metadata": {
        "id": "EueHsNk89AsY"
      },
      "source": [
        "## Prepare all required libraries\n",
        "Pada tahapan ini kita perlu melakukan persiapan untuk library yang dibutuhkan pada proses analisis.\n",
        "\n"
      ]
    },
    {
      "cell_type": "code",
      "execution_count": 261,
      "metadata": {
        "id": "4cmWv4qc8xWu"
      },
      "outputs": [],
      "source": [
        "import numpy as np\n",
        "import pandas as pd\n",
        "import matplotlib.pyplot as plt\n",
        "import seaborn as sns"
      ]
    },
    {
      "cell_type": "markdown",
      "metadata": {
        "id": "7DwSpkkZ9BqV"
      },
      "source": [
        "## Data Wrangling"
      ]
    },
    {
      "cell_type": "markdown",
      "metadata": {
        "id": "ZuJuLGxe9D9O"
      },
      "source": [
        "### Gathering Data\n",
        "Pada proses data wrangling dimulai dari gathering data atau pengumpulan data. Pada proses ini menggunakan library python pandas untuk membaca atau mengakses data menjadi sebuah dataframe. Karena data yang akan kita pakai disini dalam bentuk csv kita bisa menggunakan function read_csv untuk mengaksesnya."
      ]
    },
    {
      "cell_type": "markdown",
      "metadata": {},
      "source": [
        "#### Data Air Quality Aotizhongxin"
      ]
    },
    {
      "cell_type": "code",
      "execution_count": 262,
      "metadata": {
        "id": "Rg3wtvOr9DUm"
      },
      "outputs": [
        {
          "data": {
            "text/html": [
              "<div>\n",
              "<style scoped>\n",
              "    .dataframe tbody tr th:only-of-type {\n",
              "        vertical-align: middle;\n",
              "    }\n",
              "\n",
              "    .dataframe tbody tr th {\n",
              "        vertical-align: top;\n",
              "    }\n",
              "\n",
              "    .dataframe thead th {\n",
              "        text-align: right;\n",
              "    }\n",
              "</style>\n",
              "<table border=\"1\" class=\"dataframe\">\n",
              "  <thead>\n",
              "    <tr style=\"text-align: right;\">\n",
              "      <th></th>\n",
              "      <th>No</th>\n",
              "      <th>year</th>\n",
              "      <th>month</th>\n",
              "      <th>day</th>\n",
              "      <th>hour</th>\n",
              "      <th>PM2.5</th>\n",
              "      <th>PM10</th>\n",
              "      <th>SO2</th>\n",
              "      <th>NO2</th>\n",
              "      <th>CO</th>\n",
              "      <th>O3</th>\n",
              "      <th>TEMP</th>\n",
              "      <th>PRES</th>\n",
              "      <th>DEWP</th>\n",
              "      <th>RAIN</th>\n",
              "      <th>wd</th>\n",
              "      <th>WSPM</th>\n",
              "      <th>station</th>\n",
              "    </tr>\n",
              "  </thead>\n",
              "  <tbody>\n",
              "    <tr>\n",
              "      <th>0</th>\n",
              "      <td>1</td>\n",
              "      <td>2013</td>\n",
              "      <td>3</td>\n",
              "      <td>1</td>\n",
              "      <td>0</td>\n",
              "      <td>4.0</td>\n",
              "      <td>4.0</td>\n",
              "      <td>4.0</td>\n",
              "      <td>7.0</td>\n",
              "      <td>300.0</td>\n",
              "      <td>77.0</td>\n",
              "      <td>-0.7</td>\n",
              "      <td>1023.0</td>\n",
              "      <td>-18.8</td>\n",
              "      <td>0.0</td>\n",
              "      <td>NNW</td>\n",
              "      <td>4.4</td>\n",
              "      <td>Aotizhongxin</td>\n",
              "    </tr>\n",
              "    <tr>\n",
              "      <th>1</th>\n",
              "      <td>2</td>\n",
              "      <td>2013</td>\n",
              "      <td>3</td>\n",
              "      <td>1</td>\n",
              "      <td>1</td>\n",
              "      <td>8.0</td>\n",
              "      <td>8.0</td>\n",
              "      <td>4.0</td>\n",
              "      <td>7.0</td>\n",
              "      <td>300.0</td>\n",
              "      <td>77.0</td>\n",
              "      <td>-1.1</td>\n",
              "      <td>1023.2</td>\n",
              "      <td>-18.2</td>\n",
              "      <td>0.0</td>\n",
              "      <td>N</td>\n",
              "      <td>4.7</td>\n",
              "      <td>Aotizhongxin</td>\n",
              "    </tr>\n",
              "    <tr>\n",
              "      <th>2</th>\n",
              "      <td>3</td>\n",
              "      <td>2013</td>\n",
              "      <td>3</td>\n",
              "      <td>1</td>\n",
              "      <td>2</td>\n",
              "      <td>7.0</td>\n",
              "      <td>7.0</td>\n",
              "      <td>5.0</td>\n",
              "      <td>10.0</td>\n",
              "      <td>300.0</td>\n",
              "      <td>73.0</td>\n",
              "      <td>-1.1</td>\n",
              "      <td>1023.5</td>\n",
              "      <td>-18.2</td>\n",
              "      <td>0.0</td>\n",
              "      <td>NNW</td>\n",
              "      <td>5.6</td>\n",
              "      <td>Aotizhongxin</td>\n",
              "    </tr>\n",
              "    <tr>\n",
              "      <th>3</th>\n",
              "      <td>4</td>\n",
              "      <td>2013</td>\n",
              "      <td>3</td>\n",
              "      <td>1</td>\n",
              "      <td>3</td>\n",
              "      <td>6.0</td>\n",
              "      <td>6.0</td>\n",
              "      <td>11.0</td>\n",
              "      <td>11.0</td>\n",
              "      <td>300.0</td>\n",
              "      <td>72.0</td>\n",
              "      <td>-1.4</td>\n",
              "      <td>1024.5</td>\n",
              "      <td>-19.4</td>\n",
              "      <td>0.0</td>\n",
              "      <td>NW</td>\n",
              "      <td>3.1</td>\n",
              "      <td>Aotizhongxin</td>\n",
              "    </tr>\n",
              "    <tr>\n",
              "      <th>4</th>\n",
              "      <td>5</td>\n",
              "      <td>2013</td>\n",
              "      <td>3</td>\n",
              "      <td>1</td>\n",
              "      <td>4</td>\n",
              "      <td>3.0</td>\n",
              "      <td>3.0</td>\n",
              "      <td>12.0</td>\n",
              "      <td>12.0</td>\n",
              "      <td>300.0</td>\n",
              "      <td>72.0</td>\n",
              "      <td>-2.0</td>\n",
              "      <td>1025.2</td>\n",
              "      <td>-19.5</td>\n",
              "      <td>0.0</td>\n",
              "      <td>N</td>\n",
              "      <td>2.0</td>\n",
              "      <td>Aotizhongxin</td>\n",
              "    </tr>\n",
              "  </tbody>\n",
              "</table>\n",
              "</div>"
            ],
            "text/plain": [
              "   No  year  month  day  hour  PM2.5  PM10   SO2   NO2     CO    O3  TEMP  \\\n",
              "0   1  2013      3    1     0    4.0   4.0   4.0   7.0  300.0  77.0  -0.7   \n",
              "1   2  2013      3    1     1    8.0   8.0   4.0   7.0  300.0  77.0  -1.1   \n",
              "2   3  2013      3    1     2    7.0   7.0   5.0  10.0  300.0  73.0  -1.1   \n",
              "3   4  2013      3    1     3    6.0   6.0  11.0  11.0  300.0  72.0  -1.4   \n",
              "4   5  2013      3    1     4    3.0   3.0  12.0  12.0  300.0  72.0  -2.0   \n",
              "\n",
              "     PRES  DEWP  RAIN   wd  WSPM       station  \n",
              "0  1023.0 -18.8   0.0  NNW   4.4  Aotizhongxin  \n",
              "1  1023.2 -18.2   0.0    N   4.7  Aotizhongxin  \n",
              "2  1023.5 -18.2   0.0  NNW   5.6  Aotizhongxin  \n",
              "3  1024.5 -19.4   0.0   NW   3.1  Aotizhongxin  \n",
              "4  1025.2 -19.5   0.0    N   2.0  Aotizhongxin  "
            ]
          },
          "execution_count": 262,
          "metadata": {},
          "output_type": "execute_result"
        }
      ],
      "source": [
        "Aotizhongxin_df = pd.read_csv(\"/Users/adityadharma/Documents/Semester 5/Website Application Development/submission/Data/PRSA_Data_Aotizhongxin_20130301-20170228.csv\")\n",
        "Aotizhongxin_df.head()"
      ]
    },
    {
      "cell_type": "markdown",
      "metadata": {},
      "source": [
        "#### Data Air Quality Changping"
      ]
    },
    {
      "cell_type": "code",
      "execution_count": 263,
      "metadata": {},
      "outputs": [
        {
          "data": {
            "text/html": [
              "<div>\n",
              "<style scoped>\n",
              "    .dataframe tbody tr th:only-of-type {\n",
              "        vertical-align: middle;\n",
              "    }\n",
              "\n",
              "    .dataframe tbody tr th {\n",
              "        vertical-align: top;\n",
              "    }\n",
              "\n",
              "    .dataframe thead th {\n",
              "        text-align: right;\n",
              "    }\n",
              "</style>\n",
              "<table border=\"1\" class=\"dataframe\">\n",
              "  <thead>\n",
              "    <tr style=\"text-align: right;\">\n",
              "      <th></th>\n",
              "      <th>No</th>\n",
              "      <th>year</th>\n",
              "      <th>month</th>\n",
              "      <th>day</th>\n",
              "      <th>hour</th>\n",
              "      <th>PM2.5</th>\n",
              "      <th>PM10</th>\n",
              "      <th>SO2</th>\n",
              "      <th>NO2</th>\n",
              "      <th>CO</th>\n",
              "      <th>O3</th>\n",
              "      <th>TEMP</th>\n",
              "      <th>PRES</th>\n",
              "      <th>DEWP</th>\n",
              "      <th>RAIN</th>\n",
              "      <th>wd</th>\n",
              "      <th>WSPM</th>\n",
              "      <th>station</th>\n",
              "    </tr>\n",
              "  </thead>\n",
              "  <tbody>\n",
              "    <tr>\n",
              "      <th>0</th>\n",
              "      <td>1</td>\n",
              "      <td>2013</td>\n",
              "      <td>3</td>\n",
              "      <td>1</td>\n",
              "      <td>0</td>\n",
              "      <td>3.0</td>\n",
              "      <td>6.0</td>\n",
              "      <td>13.0</td>\n",
              "      <td>7.0</td>\n",
              "      <td>300.0</td>\n",
              "      <td>85.0</td>\n",
              "      <td>-2.3</td>\n",
              "      <td>1020.8</td>\n",
              "      <td>-19.7</td>\n",
              "      <td>0.0</td>\n",
              "      <td>E</td>\n",
              "      <td>0.5</td>\n",
              "      <td>Changping</td>\n",
              "    </tr>\n",
              "    <tr>\n",
              "      <th>1</th>\n",
              "      <td>2</td>\n",
              "      <td>2013</td>\n",
              "      <td>3</td>\n",
              "      <td>1</td>\n",
              "      <td>1</td>\n",
              "      <td>3.0</td>\n",
              "      <td>3.0</td>\n",
              "      <td>6.0</td>\n",
              "      <td>6.0</td>\n",
              "      <td>300.0</td>\n",
              "      <td>85.0</td>\n",
              "      <td>-2.5</td>\n",
              "      <td>1021.3</td>\n",
              "      <td>-19.0</td>\n",
              "      <td>0.0</td>\n",
              "      <td>ENE</td>\n",
              "      <td>0.7</td>\n",
              "      <td>Changping</td>\n",
              "    </tr>\n",
              "    <tr>\n",
              "      <th>2</th>\n",
              "      <td>3</td>\n",
              "      <td>2013</td>\n",
              "      <td>3</td>\n",
              "      <td>1</td>\n",
              "      <td>2</td>\n",
              "      <td>3.0</td>\n",
              "      <td>3.0</td>\n",
              "      <td>22.0</td>\n",
              "      <td>13.0</td>\n",
              "      <td>400.0</td>\n",
              "      <td>74.0</td>\n",
              "      <td>-3.0</td>\n",
              "      <td>1021.3</td>\n",
              "      <td>-19.9</td>\n",
              "      <td>0.0</td>\n",
              "      <td>ENE</td>\n",
              "      <td>0.2</td>\n",
              "      <td>Changping</td>\n",
              "    </tr>\n",
              "    <tr>\n",
              "      <th>3</th>\n",
              "      <td>4</td>\n",
              "      <td>2013</td>\n",
              "      <td>3</td>\n",
              "      <td>1</td>\n",
              "      <td>3</td>\n",
              "      <td>3.0</td>\n",
              "      <td>6.0</td>\n",
              "      <td>12.0</td>\n",
              "      <td>8.0</td>\n",
              "      <td>300.0</td>\n",
              "      <td>81.0</td>\n",
              "      <td>-3.6</td>\n",
              "      <td>1021.8</td>\n",
              "      <td>-19.1</td>\n",
              "      <td>0.0</td>\n",
              "      <td>NNE</td>\n",
              "      <td>1.0</td>\n",
              "      <td>Changping</td>\n",
              "    </tr>\n",
              "    <tr>\n",
              "      <th>4</th>\n",
              "      <td>5</td>\n",
              "      <td>2013</td>\n",
              "      <td>3</td>\n",
              "      <td>1</td>\n",
              "      <td>4</td>\n",
              "      <td>3.0</td>\n",
              "      <td>3.0</td>\n",
              "      <td>14.0</td>\n",
              "      <td>8.0</td>\n",
              "      <td>300.0</td>\n",
              "      <td>81.0</td>\n",
              "      <td>-3.5</td>\n",
              "      <td>1022.3</td>\n",
              "      <td>-19.4</td>\n",
              "      <td>0.0</td>\n",
              "      <td>N</td>\n",
              "      <td>2.1</td>\n",
              "      <td>Changping</td>\n",
              "    </tr>\n",
              "  </tbody>\n",
              "</table>\n",
              "</div>"
            ],
            "text/plain": [
              "   No  year  month  day  hour  PM2.5  PM10   SO2   NO2     CO    O3  TEMP  \\\n",
              "0   1  2013      3    1     0    3.0   6.0  13.0   7.0  300.0  85.0  -2.3   \n",
              "1   2  2013      3    1     1    3.0   3.0   6.0   6.0  300.0  85.0  -2.5   \n",
              "2   3  2013      3    1     2    3.0   3.0  22.0  13.0  400.0  74.0  -3.0   \n",
              "3   4  2013      3    1     3    3.0   6.0  12.0   8.0  300.0  81.0  -3.6   \n",
              "4   5  2013      3    1     4    3.0   3.0  14.0   8.0  300.0  81.0  -3.5   \n",
              "\n",
              "     PRES  DEWP  RAIN   wd  WSPM    station  \n",
              "0  1020.8 -19.7   0.0    E   0.5  Changping  \n",
              "1  1021.3 -19.0   0.0  ENE   0.7  Changping  \n",
              "2  1021.3 -19.9   0.0  ENE   0.2  Changping  \n",
              "3  1021.8 -19.1   0.0  NNE   1.0  Changping  \n",
              "4  1022.3 -19.4   0.0    N   2.1  Changping  "
            ]
          },
          "execution_count": 263,
          "metadata": {},
          "output_type": "execute_result"
        }
      ],
      "source": [
        "Changping_df = pd.read_csv(\"/Users/adityadharma/Documents/Semester 5/Website Application Development/submission/Data/PRSA_Data_Changping_20130301-20170228.csv\")\n",
        "Changping_df.head()"
      ]
    },
    {
      "cell_type": "markdown",
      "metadata": {},
      "source": [
        "#### Data Air Quality Dongsi"
      ]
    },
    {
      "cell_type": "code",
      "execution_count": 264,
      "metadata": {},
      "outputs": [
        {
          "data": {
            "text/html": [
              "<div>\n",
              "<style scoped>\n",
              "    .dataframe tbody tr th:only-of-type {\n",
              "        vertical-align: middle;\n",
              "    }\n",
              "\n",
              "    .dataframe tbody tr th {\n",
              "        vertical-align: top;\n",
              "    }\n",
              "\n",
              "    .dataframe thead th {\n",
              "        text-align: right;\n",
              "    }\n",
              "</style>\n",
              "<table border=\"1\" class=\"dataframe\">\n",
              "  <thead>\n",
              "    <tr style=\"text-align: right;\">\n",
              "      <th></th>\n",
              "      <th>No</th>\n",
              "      <th>year</th>\n",
              "      <th>month</th>\n",
              "      <th>day</th>\n",
              "      <th>hour</th>\n",
              "      <th>PM2.5</th>\n",
              "      <th>PM10</th>\n",
              "      <th>SO2</th>\n",
              "      <th>NO2</th>\n",
              "      <th>CO</th>\n",
              "      <th>O3</th>\n",
              "      <th>TEMP</th>\n",
              "      <th>PRES</th>\n",
              "      <th>DEWP</th>\n",
              "      <th>RAIN</th>\n",
              "      <th>wd</th>\n",
              "      <th>WSPM</th>\n",
              "      <th>station</th>\n",
              "    </tr>\n",
              "  </thead>\n",
              "  <tbody>\n",
              "    <tr>\n",
              "      <th>0</th>\n",
              "      <td>1</td>\n",
              "      <td>2013</td>\n",
              "      <td>3</td>\n",
              "      <td>1</td>\n",
              "      <td>0</td>\n",
              "      <td>9.0</td>\n",
              "      <td>9.0</td>\n",
              "      <td>3.0</td>\n",
              "      <td>17.0</td>\n",
              "      <td>300.0</td>\n",
              "      <td>89.0</td>\n",
              "      <td>-0.5</td>\n",
              "      <td>1024.5</td>\n",
              "      <td>-21.4</td>\n",
              "      <td>0.0</td>\n",
              "      <td>NNW</td>\n",
              "      <td>5.7</td>\n",
              "      <td>Dongsi</td>\n",
              "    </tr>\n",
              "    <tr>\n",
              "      <th>1</th>\n",
              "      <td>2</td>\n",
              "      <td>2013</td>\n",
              "      <td>3</td>\n",
              "      <td>1</td>\n",
              "      <td>1</td>\n",
              "      <td>4.0</td>\n",
              "      <td>4.0</td>\n",
              "      <td>3.0</td>\n",
              "      <td>16.0</td>\n",
              "      <td>300.0</td>\n",
              "      <td>88.0</td>\n",
              "      <td>-0.7</td>\n",
              "      <td>1025.1</td>\n",
              "      <td>-22.1</td>\n",
              "      <td>0.0</td>\n",
              "      <td>NW</td>\n",
              "      <td>3.9</td>\n",
              "      <td>Dongsi</td>\n",
              "    </tr>\n",
              "    <tr>\n",
              "      <th>2</th>\n",
              "      <td>3</td>\n",
              "      <td>2013</td>\n",
              "      <td>3</td>\n",
              "      <td>1</td>\n",
              "      <td>2</td>\n",
              "      <td>7.0</td>\n",
              "      <td>7.0</td>\n",
              "      <td>NaN</td>\n",
              "      <td>17.0</td>\n",
              "      <td>300.0</td>\n",
              "      <td>60.0</td>\n",
              "      <td>-1.2</td>\n",
              "      <td>1025.3</td>\n",
              "      <td>-24.6</td>\n",
              "      <td>0.0</td>\n",
              "      <td>NNW</td>\n",
              "      <td>5.3</td>\n",
              "      <td>Dongsi</td>\n",
              "    </tr>\n",
              "    <tr>\n",
              "      <th>3</th>\n",
              "      <td>4</td>\n",
              "      <td>2013</td>\n",
              "      <td>3</td>\n",
              "      <td>1</td>\n",
              "      <td>3</td>\n",
              "      <td>3.0</td>\n",
              "      <td>3.0</td>\n",
              "      <td>5.0</td>\n",
              "      <td>18.0</td>\n",
              "      <td>NaN</td>\n",
              "      <td>NaN</td>\n",
              "      <td>-1.4</td>\n",
              "      <td>1026.2</td>\n",
              "      <td>-25.5</td>\n",
              "      <td>0.0</td>\n",
              "      <td>N</td>\n",
              "      <td>4.9</td>\n",
              "      <td>Dongsi</td>\n",
              "    </tr>\n",
              "    <tr>\n",
              "      <th>4</th>\n",
              "      <td>5</td>\n",
              "      <td>2013</td>\n",
              "      <td>3</td>\n",
              "      <td>1</td>\n",
              "      <td>4</td>\n",
              "      <td>3.0</td>\n",
              "      <td>3.0</td>\n",
              "      <td>7.0</td>\n",
              "      <td>NaN</td>\n",
              "      <td>200.0</td>\n",
              "      <td>84.0</td>\n",
              "      <td>-1.9</td>\n",
              "      <td>1027.1</td>\n",
              "      <td>-24.5</td>\n",
              "      <td>0.0</td>\n",
              "      <td>NNW</td>\n",
              "      <td>3.2</td>\n",
              "      <td>Dongsi</td>\n",
              "    </tr>\n",
              "  </tbody>\n",
              "</table>\n",
              "</div>"
            ],
            "text/plain": [
              "   No  year  month  day  hour  PM2.5  PM10  SO2   NO2     CO    O3  TEMP  \\\n",
              "0   1  2013      3    1     0    9.0   9.0  3.0  17.0  300.0  89.0  -0.5   \n",
              "1   2  2013      3    1     1    4.0   4.0  3.0  16.0  300.0  88.0  -0.7   \n",
              "2   3  2013      3    1     2    7.0   7.0  NaN  17.0  300.0  60.0  -1.2   \n",
              "3   4  2013      3    1     3    3.0   3.0  5.0  18.0    NaN   NaN  -1.4   \n",
              "4   5  2013      3    1     4    3.0   3.0  7.0   NaN  200.0  84.0  -1.9   \n",
              "\n",
              "     PRES  DEWP  RAIN   wd  WSPM station  \n",
              "0  1024.5 -21.4   0.0  NNW   5.7  Dongsi  \n",
              "1  1025.1 -22.1   0.0   NW   3.9  Dongsi  \n",
              "2  1025.3 -24.6   0.0  NNW   5.3  Dongsi  \n",
              "3  1026.2 -25.5   0.0    N   4.9  Dongsi  \n",
              "4  1027.1 -24.5   0.0  NNW   3.2  Dongsi  "
            ]
          },
          "execution_count": 264,
          "metadata": {},
          "output_type": "execute_result"
        }
      ],
      "source": [
        "Dongsi_df = pd.read_csv(\"/Users/adityadharma/Documents/Semester 5/Website Application Development/submission/Data/PRSA_Data_Dongsi_20130301-20170228.csv\")\n",
        "Dongsi_df.head()"
      ]
    },
    {
      "cell_type": "markdown",
      "metadata": {
        "id": "BvZAfrSH9F2U"
      },
      "source": [
        "### Assessing Data\n",
        "Pada proses assessing data kita melakukan pemeriksaan data yang bertujuan untuk memastikan data tersebut berkualitas."
      ]
    },
    {
      "cell_type": "markdown",
      "metadata": {},
      "source": [
        "#### Data Aotizhongxin"
      ]
    },
    {
      "cell_type": "code",
      "execution_count": 265,
      "metadata": {
        "id": "fx7PaLsV9G8M"
      },
      "outputs": [
        {
          "name": "stdout",
          "output_type": "stream",
          "text": [
            "<class 'pandas.core.frame.DataFrame'>\n",
            "RangeIndex: 35064 entries, 0 to 35063\n",
            "Data columns (total 18 columns):\n",
            " #   Column   Non-Null Count  Dtype  \n",
            "---  ------   --------------  -----  \n",
            " 0   No       35064 non-null  int64  \n",
            " 1   year     35064 non-null  int64  \n",
            " 2   month    35064 non-null  int64  \n",
            " 3   day      35064 non-null  int64  \n",
            " 4   hour     35064 non-null  int64  \n",
            " 5   PM2.5    34139 non-null  float64\n",
            " 6   PM10     34346 non-null  float64\n",
            " 7   SO2      34129 non-null  float64\n",
            " 8   NO2      34041 non-null  float64\n",
            " 9   CO       33288 non-null  float64\n",
            " 10  O3       33345 non-null  float64\n",
            " 11  TEMP     35044 non-null  float64\n",
            " 12  PRES     35044 non-null  float64\n",
            " 13  DEWP     35044 non-null  float64\n",
            " 14  RAIN     35044 non-null  float64\n",
            " 15  wd       34983 non-null  object \n",
            " 16  WSPM     35050 non-null  float64\n",
            " 17  station  35064 non-null  object \n",
            "dtypes: float64(11), int64(5), object(2)\n",
            "memory usage: 4.8+ MB\n"
          ]
        }
      ],
      "source": [
        "Aotizhongxin_df.info() #memeriksa tipe data dari setiap kolom"
      ]
    },
    {
      "cell_type": "markdown",
      "metadata": {},
      "source": [
        "Pada output diatas terdapat perbedaan pada jumlah data pada kolom PM2.5, PM10, SO2, NO2, CO, O3, TEMP, PRES, DEWP, RAIN, wd, WSPM. Hal ini menunjukkan adanya missing value pada kolom tersebut. Untuk mengetahui jumlah kolom yang kosong pada data kita bisa memakai function isna() atau isnull() lalu sum()."
      ]
    },
    {
      "cell_type": "code",
      "execution_count": 266,
      "metadata": {},
      "outputs": [
        {
          "data": {
            "text/plain": [
              "No            0\n",
              "year          0\n",
              "month         0\n",
              "day           0\n",
              "hour          0\n",
              "PM2.5       925\n",
              "PM10        718\n",
              "SO2         935\n",
              "NO2        1023\n",
              "CO         1776\n",
              "O3         1719\n",
              "TEMP         20\n",
              "PRES         20\n",
              "DEWP         20\n",
              "RAIN         20\n",
              "wd           81\n",
              "WSPM         14\n",
              "station       0\n",
              "dtype: int64"
            ]
          },
          "execution_count": 266,
          "metadata": {},
          "output_type": "execute_result"
        }
      ],
      "source": [
        "Aotizhongxin_df.isna().sum()"
      ]
    },
    {
      "cell_type": "code",
      "execution_count": 267,
      "metadata": {},
      "outputs": [
        {
          "name": "stdout",
          "output_type": "stream",
          "text": [
            "Jumlah data duplicate : 0\n"
          ]
        }
      ],
      "source": [
        "print(\"Jumlah data duplicate :\", Aotizhongxin_df.duplicated().sum()) #memeriksa duplicate data"
      ]
    },
    {
      "cell_type": "code",
      "execution_count": 268,
      "metadata": {},
      "outputs": [
        {
          "data": {
            "text/html": [
              "<div>\n",
              "<style scoped>\n",
              "    .dataframe tbody tr th:only-of-type {\n",
              "        vertical-align: middle;\n",
              "    }\n",
              "\n",
              "    .dataframe tbody tr th {\n",
              "        vertical-align: top;\n",
              "    }\n",
              "\n",
              "    .dataframe thead th {\n",
              "        text-align: right;\n",
              "    }\n",
              "</style>\n",
              "<table border=\"1\" class=\"dataframe\">\n",
              "  <thead>\n",
              "    <tr style=\"text-align: right;\">\n",
              "      <th></th>\n",
              "      <th>No</th>\n",
              "      <th>year</th>\n",
              "      <th>month</th>\n",
              "      <th>day</th>\n",
              "      <th>hour</th>\n",
              "      <th>PM2.5</th>\n",
              "      <th>PM10</th>\n",
              "      <th>SO2</th>\n",
              "      <th>NO2</th>\n",
              "      <th>CO</th>\n",
              "      <th>O3</th>\n",
              "      <th>TEMP</th>\n",
              "      <th>PRES</th>\n",
              "      <th>DEWP</th>\n",
              "      <th>RAIN</th>\n",
              "      <th>WSPM</th>\n",
              "    </tr>\n",
              "  </thead>\n",
              "  <tbody>\n",
              "    <tr>\n",
              "      <th>count</th>\n",
              "      <td>35064.000000</td>\n",
              "      <td>35064.000000</td>\n",
              "      <td>35064.000000</td>\n",
              "      <td>35064.000000</td>\n",
              "      <td>35064.000000</td>\n",
              "      <td>34139.000000</td>\n",
              "      <td>34346.000000</td>\n",
              "      <td>34129.000000</td>\n",
              "      <td>34041.000000</td>\n",
              "      <td>33288.000000</td>\n",
              "      <td>33345.000000</td>\n",
              "      <td>35044.000000</td>\n",
              "      <td>35044.000000</td>\n",
              "      <td>35044.000000</td>\n",
              "      <td>35044.000000</td>\n",
              "      <td>35050.000000</td>\n",
              "    </tr>\n",
              "    <tr>\n",
              "      <th>mean</th>\n",
              "      <td>17532.500000</td>\n",
              "      <td>2014.662560</td>\n",
              "      <td>6.522930</td>\n",
              "      <td>15.729637</td>\n",
              "      <td>11.500000</td>\n",
              "      <td>82.773611</td>\n",
              "      <td>110.060391</td>\n",
              "      <td>17.375901</td>\n",
              "      <td>59.305833</td>\n",
              "      <td>1262.945145</td>\n",
              "      <td>56.353358</td>\n",
              "      <td>13.584607</td>\n",
              "      <td>1011.846920</td>\n",
              "      <td>3.123062</td>\n",
              "      <td>0.067421</td>\n",
              "      <td>1.708496</td>\n",
              "    </tr>\n",
              "    <tr>\n",
              "      <th>std</th>\n",
              "      <td>10122.249256</td>\n",
              "      <td>1.177213</td>\n",
              "      <td>3.448752</td>\n",
              "      <td>8.800218</td>\n",
              "      <td>6.922285</td>\n",
              "      <td>82.135694</td>\n",
              "      <td>95.223005</td>\n",
              "      <td>22.823017</td>\n",
              "      <td>37.116200</td>\n",
              "      <td>1221.436236</td>\n",
              "      <td>57.916327</td>\n",
              "      <td>11.399097</td>\n",
              "      <td>10.404047</td>\n",
              "      <td>13.688896</td>\n",
              "      <td>0.910056</td>\n",
              "      <td>1.204071</td>\n",
              "    </tr>\n",
              "    <tr>\n",
              "      <th>min</th>\n",
              "      <td>1.000000</td>\n",
              "      <td>2013.000000</td>\n",
              "      <td>1.000000</td>\n",
              "      <td>1.000000</td>\n",
              "      <td>0.000000</td>\n",
              "      <td>3.000000</td>\n",
              "      <td>2.000000</td>\n",
              "      <td>0.285600</td>\n",
              "      <td>2.000000</td>\n",
              "      <td>100.000000</td>\n",
              "      <td>0.214200</td>\n",
              "      <td>-16.800000</td>\n",
              "      <td>985.900000</td>\n",
              "      <td>-35.300000</td>\n",
              "      <td>0.000000</td>\n",
              "      <td>0.000000</td>\n",
              "    </tr>\n",
              "    <tr>\n",
              "      <th>25%</th>\n",
              "      <td>8766.750000</td>\n",
              "      <td>2014.000000</td>\n",
              "      <td>4.000000</td>\n",
              "      <td>8.000000</td>\n",
              "      <td>5.750000</td>\n",
              "      <td>22.000000</td>\n",
              "      <td>38.000000</td>\n",
              "      <td>3.000000</td>\n",
              "      <td>30.000000</td>\n",
              "      <td>500.000000</td>\n",
              "      <td>8.000000</td>\n",
              "      <td>3.100000</td>\n",
              "      <td>1003.300000</td>\n",
              "      <td>-8.100000</td>\n",
              "      <td>0.000000</td>\n",
              "      <td>0.900000</td>\n",
              "    </tr>\n",
              "    <tr>\n",
              "      <th>50%</th>\n",
              "      <td>17532.500000</td>\n",
              "      <td>2015.000000</td>\n",
              "      <td>7.000000</td>\n",
              "      <td>16.000000</td>\n",
              "      <td>11.500000</td>\n",
              "      <td>58.000000</td>\n",
              "      <td>87.000000</td>\n",
              "      <td>9.000000</td>\n",
              "      <td>53.000000</td>\n",
              "      <td>900.000000</td>\n",
              "      <td>42.000000</td>\n",
              "      <td>14.500000</td>\n",
              "      <td>1011.400000</td>\n",
              "      <td>3.800000</td>\n",
              "      <td>0.000000</td>\n",
              "      <td>1.400000</td>\n",
              "    </tr>\n",
              "    <tr>\n",
              "      <th>75%</th>\n",
              "      <td>26298.250000</td>\n",
              "      <td>2016.000000</td>\n",
              "      <td>10.000000</td>\n",
              "      <td>23.000000</td>\n",
              "      <td>17.250000</td>\n",
              "      <td>114.000000</td>\n",
              "      <td>155.000000</td>\n",
              "      <td>21.000000</td>\n",
              "      <td>82.000000</td>\n",
              "      <td>1500.000000</td>\n",
              "      <td>82.000000</td>\n",
              "      <td>23.300000</td>\n",
              "      <td>1020.100000</td>\n",
              "      <td>15.600000</td>\n",
              "      <td>0.000000</td>\n",
              "      <td>2.200000</td>\n",
              "    </tr>\n",
              "    <tr>\n",
              "      <th>max</th>\n",
              "      <td>35064.000000</td>\n",
              "      <td>2017.000000</td>\n",
              "      <td>12.000000</td>\n",
              "      <td>31.000000</td>\n",
              "      <td>23.000000</td>\n",
              "      <td>898.000000</td>\n",
              "      <td>984.000000</td>\n",
              "      <td>341.000000</td>\n",
              "      <td>290.000000</td>\n",
              "      <td>10000.000000</td>\n",
              "      <td>423.000000</td>\n",
              "      <td>40.500000</td>\n",
              "      <td>1042.000000</td>\n",
              "      <td>28.500000</td>\n",
              "      <td>72.500000</td>\n",
              "      <td>11.200000</td>\n",
              "    </tr>\n",
              "  </tbody>\n",
              "</table>\n",
              "</div>"
            ],
            "text/plain": [
              "                 No          year         month           day          hour  \\\n",
              "count  35064.000000  35064.000000  35064.000000  35064.000000  35064.000000   \n",
              "mean   17532.500000   2014.662560      6.522930     15.729637     11.500000   \n",
              "std    10122.249256      1.177213      3.448752      8.800218      6.922285   \n",
              "min        1.000000   2013.000000      1.000000      1.000000      0.000000   \n",
              "25%     8766.750000   2014.000000      4.000000      8.000000      5.750000   \n",
              "50%    17532.500000   2015.000000      7.000000     16.000000     11.500000   \n",
              "75%    26298.250000   2016.000000     10.000000     23.000000     17.250000   \n",
              "max    35064.000000   2017.000000     12.000000     31.000000     23.000000   \n",
              "\n",
              "              PM2.5          PM10           SO2           NO2            CO  \\\n",
              "count  34139.000000  34346.000000  34129.000000  34041.000000  33288.000000   \n",
              "mean      82.773611    110.060391     17.375901     59.305833   1262.945145   \n",
              "std       82.135694     95.223005     22.823017     37.116200   1221.436236   \n",
              "min        3.000000      2.000000      0.285600      2.000000    100.000000   \n",
              "25%       22.000000     38.000000      3.000000     30.000000    500.000000   \n",
              "50%       58.000000     87.000000      9.000000     53.000000    900.000000   \n",
              "75%      114.000000    155.000000     21.000000     82.000000   1500.000000   \n",
              "max      898.000000    984.000000    341.000000    290.000000  10000.000000   \n",
              "\n",
              "                 O3          TEMP          PRES          DEWP          RAIN  \\\n",
              "count  33345.000000  35044.000000  35044.000000  35044.000000  35044.000000   \n",
              "mean      56.353358     13.584607   1011.846920      3.123062      0.067421   \n",
              "std       57.916327     11.399097     10.404047     13.688896      0.910056   \n",
              "min        0.214200    -16.800000    985.900000    -35.300000      0.000000   \n",
              "25%        8.000000      3.100000   1003.300000     -8.100000      0.000000   \n",
              "50%       42.000000     14.500000   1011.400000      3.800000      0.000000   \n",
              "75%       82.000000     23.300000   1020.100000     15.600000      0.000000   \n",
              "max      423.000000     40.500000   1042.000000     28.500000     72.500000   \n",
              "\n",
              "               WSPM  \n",
              "count  35050.000000  \n",
              "mean       1.708496  \n",
              "std        1.204071  \n",
              "min        0.000000  \n",
              "25%        0.900000  \n",
              "50%        1.400000  \n",
              "75%        2.200000  \n",
              "max       11.200000  "
            ]
          },
          "execution_count": 268,
          "metadata": {},
          "output_type": "execute_result"
        }
      ],
      "source": [
        "Aotizhongxin_df.describe()"
      ]
    },
    {
      "cell_type": "markdown",
      "metadata": {},
      "source": [
        "#### Data Changping"
      ]
    },
    {
      "cell_type": "code",
      "execution_count": 269,
      "metadata": {},
      "outputs": [
        {
          "name": "stdout",
          "output_type": "stream",
          "text": [
            "<class 'pandas.core.frame.DataFrame'>\n",
            "RangeIndex: 35064 entries, 0 to 35063\n",
            "Data columns (total 18 columns):\n",
            " #   Column   Non-Null Count  Dtype  \n",
            "---  ------   --------------  -----  \n",
            " 0   No       35064 non-null  int64  \n",
            " 1   year     35064 non-null  int64  \n",
            " 2   month    35064 non-null  int64  \n",
            " 3   day      35064 non-null  int64  \n",
            " 4   hour     35064 non-null  int64  \n",
            " 5   PM2.5    34290 non-null  float64\n",
            " 6   PM10     34482 non-null  float64\n",
            " 7   SO2      34436 non-null  float64\n",
            " 8   NO2      34397 non-null  float64\n",
            " 9   CO       33543 non-null  float64\n",
            " 10  O3       34460 non-null  float64\n",
            " 11  TEMP     35011 non-null  float64\n",
            " 12  PRES     35014 non-null  float64\n",
            " 13  DEWP     35011 non-null  float64\n",
            " 14  RAIN     35013 non-null  float64\n",
            " 15  wd       34924 non-null  object \n",
            " 16  WSPM     35021 non-null  float64\n",
            " 17  station  35064 non-null  object \n",
            "dtypes: float64(11), int64(5), object(2)\n",
            "memory usage: 4.8+ MB\n"
          ]
        }
      ],
      "source": [
        "Changping_df.info() #memeriksa tipe data dari setiap kolom"
      ]
    },
    {
      "cell_type": "markdown",
      "metadata": {},
      "source": [
        "Sama seperti data sebelumny, pada output diatas terdapat perbedaan pada jumlah data pada kolom PM2.5, PM10, SO2, NO2, CO, O3, TEMP, PRES, DEWP, RAIN, wd, WSPM. Hal ini menunjukkan adanya missing value pada kolom tersebut. Untuk mengetahui jumlah kolom yang kosong pada data kita bisa memakai function isna() atau isnull() lalu sum()."
      ]
    },
    {
      "cell_type": "code",
      "execution_count": 270,
      "metadata": {},
      "outputs": [
        {
          "data": {
            "text/plain": [
              "No            0\n",
              "year          0\n",
              "month         0\n",
              "day           0\n",
              "hour          0\n",
              "PM2.5       774\n",
              "PM10        582\n",
              "SO2         628\n",
              "NO2         667\n",
              "CO         1521\n",
              "O3          604\n",
              "TEMP         53\n",
              "PRES         50\n",
              "DEWP         53\n",
              "RAIN         51\n",
              "wd          140\n",
              "WSPM         43\n",
              "station       0\n",
              "dtype: int64"
            ]
          },
          "execution_count": 270,
          "metadata": {},
          "output_type": "execute_result"
        }
      ],
      "source": [
        "Changping_df.isna().sum()"
      ]
    },
    {
      "cell_type": "code",
      "execution_count": 271,
      "metadata": {},
      "outputs": [
        {
          "name": "stdout",
          "output_type": "stream",
          "text": [
            "Jumlah data duplicate : 0\n"
          ]
        }
      ],
      "source": [
        "print(\"Jumlah data duplicate :\", Changping_df.duplicated().sum()) #memeriksa duplicate data"
      ]
    },
    {
      "cell_type": "code",
      "execution_count": 272,
      "metadata": {},
      "outputs": [
        {
          "data": {
            "text/html": [
              "<div>\n",
              "<style scoped>\n",
              "    .dataframe tbody tr th:only-of-type {\n",
              "        vertical-align: middle;\n",
              "    }\n",
              "\n",
              "    .dataframe tbody tr th {\n",
              "        vertical-align: top;\n",
              "    }\n",
              "\n",
              "    .dataframe thead th {\n",
              "        text-align: right;\n",
              "    }\n",
              "</style>\n",
              "<table border=\"1\" class=\"dataframe\">\n",
              "  <thead>\n",
              "    <tr style=\"text-align: right;\">\n",
              "      <th></th>\n",
              "      <th>No</th>\n",
              "      <th>year</th>\n",
              "      <th>month</th>\n",
              "      <th>day</th>\n",
              "      <th>hour</th>\n",
              "      <th>PM2.5</th>\n",
              "      <th>PM10</th>\n",
              "      <th>SO2</th>\n",
              "      <th>NO2</th>\n",
              "      <th>CO</th>\n",
              "      <th>O3</th>\n",
              "      <th>TEMP</th>\n",
              "      <th>PRES</th>\n",
              "      <th>DEWP</th>\n",
              "      <th>RAIN</th>\n",
              "      <th>WSPM</th>\n",
              "    </tr>\n",
              "  </thead>\n",
              "  <tbody>\n",
              "    <tr>\n",
              "      <th>count</th>\n",
              "      <td>35064.000000</td>\n",
              "      <td>35064.000000</td>\n",
              "      <td>35064.000000</td>\n",
              "      <td>35064.000000</td>\n",
              "      <td>35064.000000</td>\n",
              "      <td>34290.000000</td>\n",
              "      <td>34482.000000</td>\n",
              "      <td>34436.000000</td>\n",
              "      <td>34397.000000</td>\n",
              "      <td>33543.000000</td>\n",
              "      <td>34460.000000</td>\n",
              "      <td>35011.000000</td>\n",
              "      <td>35014.000000</td>\n",
              "      <td>35011.000000</td>\n",
              "      <td>35013.000000</td>\n",
              "      <td>35021.000000</td>\n",
              "    </tr>\n",
              "    <tr>\n",
              "      <th>mean</th>\n",
              "      <td>17532.500000</td>\n",
              "      <td>2014.662560</td>\n",
              "      <td>6.522930</td>\n",
              "      <td>15.729637</td>\n",
              "      <td>11.500000</td>\n",
              "      <td>71.099743</td>\n",
              "      <td>94.657871</td>\n",
              "      <td>14.958906</td>\n",
              "      <td>44.182086</td>\n",
              "      <td>1152.301345</td>\n",
              "      <td>57.940003</td>\n",
              "      <td>13.686111</td>\n",
              "      <td>1007.760278</td>\n",
              "      <td>1.505495</td>\n",
              "      <td>0.060366</td>\n",
              "      <td>1.853836</td>\n",
              "    </tr>\n",
              "    <tr>\n",
              "      <th>std</th>\n",
              "      <td>10122.249256</td>\n",
              "      <td>1.177213</td>\n",
              "      <td>3.448752</td>\n",
              "      <td>8.800218</td>\n",
              "      <td>6.922285</td>\n",
              "      <td>72.326926</td>\n",
              "      <td>83.441738</td>\n",
              "      <td>20.975331</td>\n",
              "      <td>29.519796</td>\n",
              "      <td>1103.056282</td>\n",
              "      <td>54.316674</td>\n",
              "      <td>11.365313</td>\n",
              "      <td>10.225664</td>\n",
              "      <td>13.822099</td>\n",
              "      <td>0.752899</td>\n",
              "      <td>1.309808</td>\n",
              "    </tr>\n",
              "    <tr>\n",
              "      <th>min</th>\n",
              "      <td>1.000000</td>\n",
              "      <td>2013.000000</td>\n",
              "      <td>1.000000</td>\n",
              "      <td>1.000000</td>\n",
              "      <td>0.000000</td>\n",
              "      <td>2.000000</td>\n",
              "      <td>2.000000</td>\n",
              "      <td>0.285600</td>\n",
              "      <td>1.847700</td>\n",
              "      <td>100.000000</td>\n",
              "      <td>0.214200</td>\n",
              "      <td>-16.600000</td>\n",
              "      <td>982.400000</td>\n",
              "      <td>-35.100000</td>\n",
              "      <td>0.000000</td>\n",
              "      <td>0.000000</td>\n",
              "    </tr>\n",
              "    <tr>\n",
              "      <th>25%</th>\n",
              "      <td>8766.750000</td>\n",
              "      <td>2014.000000</td>\n",
              "      <td>4.000000</td>\n",
              "      <td>8.000000</td>\n",
              "      <td>5.750000</td>\n",
              "      <td>18.000000</td>\n",
              "      <td>34.000000</td>\n",
              "      <td>2.000000</td>\n",
              "      <td>22.000000</td>\n",
              "      <td>500.000000</td>\n",
              "      <td>15.636600</td>\n",
              "      <td>3.400000</td>\n",
              "      <td>999.300000</td>\n",
              "      <td>-10.200000</td>\n",
              "      <td>0.000000</td>\n",
              "      <td>1.000000</td>\n",
              "    </tr>\n",
              "    <tr>\n",
              "      <th>50%</th>\n",
              "      <td>17532.500000</td>\n",
              "      <td>2015.000000</td>\n",
              "      <td>7.000000</td>\n",
              "      <td>16.000000</td>\n",
              "      <td>11.500000</td>\n",
              "      <td>46.000000</td>\n",
              "      <td>72.000000</td>\n",
              "      <td>7.000000</td>\n",
              "      <td>36.000000</td>\n",
              "      <td>800.000000</td>\n",
              "      <td>46.000000</td>\n",
              "      <td>14.700000</td>\n",
              "      <td>1007.400000</td>\n",
              "      <td>1.800000</td>\n",
              "      <td>0.000000</td>\n",
              "      <td>1.500000</td>\n",
              "    </tr>\n",
              "    <tr>\n",
              "      <th>75%</th>\n",
              "      <td>26298.250000</td>\n",
              "      <td>2016.000000</td>\n",
              "      <td>10.000000</td>\n",
              "      <td>23.000000</td>\n",
              "      <td>17.250000</td>\n",
              "      <td>100.000000</td>\n",
              "      <td>131.000000</td>\n",
              "      <td>18.000000</td>\n",
              "      <td>60.358200</td>\n",
              "      <td>1400.000000</td>\n",
              "      <td>80.000000</td>\n",
              "      <td>23.300000</td>\n",
              "      <td>1016.000000</td>\n",
              "      <td>14.200000</td>\n",
              "      <td>0.000000</td>\n",
              "      <td>2.300000</td>\n",
              "    </tr>\n",
              "    <tr>\n",
              "      <th>max</th>\n",
              "      <td>35064.000000</td>\n",
              "      <td>2017.000000</td>\n",
              "      <td>12.000000</td>\n",
              "      <td>31.000000</td>\n",
              "      <td>23.000000</td>\n",
              "      <td>882.000000</td>\n",
              "      <td>999.000000</td>\n",
              "      <td>310.000000</td>\n",
              "      <td>226.000000</td>\n",
              "      <td>10000.000000</td>\n",
              "      <td>429.000000</td>\n",
              "      <td>41.400000</td>\n",
              "      <td>1036.500000</td>\n",
              "      <td>27.200000</td>\n",
              "      <td>52.100000</td>\n",
              "      <td>10.000000</td>\n",
              "    </tr>\n",
              "  </tbody>\n",
              "</table>\n",
              "</div>"
            ],
            "text/plain": [
              "                 No          year         month           day          hour  \\\n",
              "count  35064.000000  35064.000000  35064.000000  35064.000000  35064.000000   \n",
              "mean   17532.500000   2014.662560      6.522930     15.729637     11.500000   \n",
              "std    10122.249256      1.177213      3.448752      8.800218      6.922285   \n",
              "min        1.000000   2013.000000      1.000000      1.000000      0.000000   \n",
              "25%     8766.750000   2014.000000      4.000000      8.000000      5.750000   \n",
              "50%    17532.500000   2015.000000      7.000000     16.000000     11.500000   \n",
              "75%    26298.250000   2016.000000     10.000000     23.000000     17.250000   \n",
              "max    35064.000000   2017.000000     12.000000     31.000000     23.000000   \n",
              "\n",
              "              PM2.5          PM10           SO2           NO2            CO  \\\n",
              "count  34290.000000  34482.000000  34436.000000  34397.000000  33543.000000   \n",
              "mean      71.099743     94.657871     14.958906     44.182086   1152.301345   \n",
              "std       72.326926     83.441738     20.975331     29.519796   1103.056282   \n",
              "min        2.000000      2.000000      0.285600      1.847700    100.000000   \n",
              "25%       18.000000     34.000000      2.000000     22.000000    500.000000   \n",
              "50%       46.000000     72.000000      7.000000     36.000000    800.000000   \n",
              "75%      100.000000    131.000000     18.000000     60.358200   1400.000000   \n",
              "max      882.000000    999.000000    310.000000    226.000000  10000.000000   \n",
              "\n",
              "                 O3          TEMP          PRES          DEWP          RAIN  \\\n",
              "count  34460.000000  35011.000000  35014.000000  35011.000000  35013.000000   \n",
              "mean      57.940003     13.686111   1007.760278      1.505495      0.060366   \n",
              "std       54.316674     11.365313     10.225664     13.822099      0.752899   \n",
              "min        0.214200    -16.600000    982.400000    -35.100000      0.000000   \n",
              "25%       15.636600      3.400000    999.300000    -10.200000      0.000000   \n",
              "50%       46.000000     14.700000   1007.400000      1.800000      0.000000   \n",
              "75%       80.000000     23.300000   1016.000000     14.200000      0.000000   \n",
              "max      429.000000     41.400000   1036.500000     27.200000     52.100000   \n",
              "\n",
              "               WSPM  \n",
              "count  35021.000000  \n",
              "mean       1.853836  \n",
              "std        1.309808  \n",
              "min        0.000000  \n",
              "25%        1.000000  \n",
              "50%        1.500000  \n",
              "75%        2.300000  \n",
              "max       10.000000  "
            ]
          },
          "execution_count": 272,
          "metadata": {},
          "output_type": "execute_result"
        }
      ],
      "source": [
        "Changping_df.describe()"
      ]
    },
    {
      "cell_type": "markdown",
      "metadata": {},
      "source": [
        "#### Data Dongsi"
      ]
    },
    {
      "cell_type": "code",
      "execution_count": 273,
      "metadata": {},
      "outputs": [
        {
          "name": "stdout",
          "output_type": "stream",
          "text": [
            "<class 'pandas.core.frame.DataFrame'>\n",
            "RangeIndex: 35064 entries, 0 to 35063\n",
            "Data columns (total 18 columns):\n",
            " #   Column   Non-Null Count  Dtype  \n",
            "---  ------   --------------  -----  \n",
            " 0   No       35064 non-null  int64  \n",
            " 1   year     35064 non-null  int64  \n",
            " 2   month    35064 non-null  int64  \n",
            " 3   day      35064 non-null  int64  \n",
            " 4   hour     35064 non-null  int64  \n",
            " 5   PM2.5    34314 non-null  float64\n",
            " 6   PM10     34511 non-null  float64\n",
            " 7   SO2      34401 non-null  float64\n",
            " 8   NO2      33463 non-null  float64\n",
            " 9   CO       31867 non-null  float64\n",
            " 10  O3       34400 non-null  float64\n",
            " 11  TEMP     35044 non-null  float64\n",
            " 12  PRES     35044 non-null  float64\n",
            " 13  DEWP     35044 non-null  float64\n",
            " 14  RAIN     35044 non-null  float64\n",
            " 15  wd       34986 non-null  object \n",
            " 16  WSPM     35050 non-null  float64\n",
            " 17  station  35064 non-null  object \n",
            "dtypes: float64(11), int64(5), object(2)\n",
            "memory usage: 4.8+ MB\n"
          ]
        }
      ],
      "source": [
        "Dongsi_df.info() #memeriksa tipe data dari setiap kolom"
      ]
    },
    {
      "cell_type": "markdown",
      "metadata": {},
      "source": [
        "Sama seperti data sebelumny, pada output diatas terdapat perbedaan pada jumlah data pada kolom PM2.5, PM10, SO2, NO2, CO, O3, TEMP, PRES, DEWP, RAIN, wd, WSPM. Hal ini menunjukkan adanya missing value pada kolom tersebut. Untuk mengetahui jumlah kolom yang kosong pada data kita bisa memakai function isna() atau isnull() lalu sum()."
      ]
    },
    {
      "cell_type": "code",
      "execution_count": 274,
      "metadata": {},
      "outputs": [
        {
          "data": {
            "text/plain": [
              "No            0\n",
              "year          0\n",
              "month         0\n",
              "day           0\n",
              "hour          0\n",
              "PM2.5       750\n",
              "PM10        553\n",
              "SO2         663\n",
              "NO2        1601\n",
              "CO         3197\n",
              "O3          664\n",
              "TEMP         20\n",
              "PRES         20\n",
              "DEWP         20\n",
              "RAIN         20\n",
              "wd           78\n",
              "WSPM         14\n",
              "station       0\n",
              "dtype: int64"
            ]
          },
          "execution_count": 274,
          "metadata": {},
          "output_type": "execute_result"
        }
      ],
      "source": [
        "Dongsi_df.isna().sum()"
      ]
    },
    {
      "cell_type": "code",
      "execution_count": 275,
      "metadata": {},
      "outputs": [
        {
          "name": "stdout",
          "output_type": "stream",
          "text": [
            "Jumlah data duplicate : 0\n"
          ]
        }
      ],
      "source": [
        "print(\"Jumlah data duplicate :\", Dongsi_df.duplicated().sum()) #memeriksa duplicate data"
      ]
    },
    {
      "cell_type": "markdown",
      "metadata": {
        "id": "Uz5dgcJm9HW5"
      },
      "source": [
        "### Cleaning Data"
      ]
    },
    {
      "cell_type": "markdown",
      "metadata": {},
      "source": [
        "#### Cleaning Aotizhongxin_df"
      ]
    },
    {
      "cell_type": "markdown",
      "metadata": {},
      "source": [
        "- PM2.5 Column"
      ]
    },
    {
      "cell_type": "code",
      "execution_count": 276,
      "metadata": {
        "id": "CCszTdXD9Ivf"
      },
      "outputs": [
        {
          "data": {
            "text/html": [
              "<div>\n",
              "<style scoped>\n",
              "    .dataframe tbody tr th:only-of-type {\n",
              "        vertical-align: middle;\n",
              "    }\n",
              "\n",
              "    .dataframe tbody tr th {\n",
              "        vertical-align: top;\n",
              "    }\n",
              "\n",
              "    .dataframe thead th {\n",
              "        text-align: right;\n",
              "    }\n",
              "</style>\n",
              "<table border=\"1\" class=\"dataframe\">\n",
              "  <thead>\n",
              "    <tr style=\"text-align: right;\">\n",
              "      <th></th>\n",
              "      <th>No</th>\n",
              "      <th>year</th>\n",
              "      <th>month</th>\n",
              "      <th>day</th>\n",
              "      <th>hour</th>\n",
              "      <th>PM2.5</th>\n",
              "      <th>PM10</th>\n",
              "      <th>SO2</th>\n",
              "      <th>NO2</th>\n",
              "      <th>CO</th>\n",
              "      <th>O3</th>\n",
              "      <th>TEMP</th>\n",
              "      <th>PRES</th>\n",
              "      <th>DEWP</th>\n",
              "      <th>RAIN</th>\n",
              "      <th>wd</th>\n",
              "      <th>WSPM</th>\n",
              "      <th>station</th>\n",
              "    </tr>\n",
              "  </thead>\n",
              "  <tbody>\n",
              "    <tr>\n",
              "      <th>1509</th>\n",
              "      <td>1510</td>\n",
              "      <td>2013</td>\n",
              "      <td>5</td>\n",
              "      <td>2</td>\n",
              "      <td>21</td>\n",
              "      <td>NaN</td>\n",
              "      <td>183.0</td>\n",
              "      <td>63.0000</td>\n",
              "      <td>93.0000</td>\n",
              "      <td>1200.0</td>\n",
              "      <td>38.0000</td>\n",
              "      <td>18.5</td>\n",
              "      <td>1006.1</td>\n",
              "      <td>6.0</td>\n",
              "      <td>0.0</td>\n",
              "      <td>SE</td>\n",
              "      <td>2.8</td>\n",
              "      <td>Aotizhongxin</td>\n",
              "    </tr>\n",
              "    <tr>\n",
              "      <th>1837</th>\n",
              "      <td>1838</td>\n",
              "      <td>2013</td>\n",
              "      <td>5</td>\n",
              "      <td>16</td>\n",
              "      <td>13</td>\n",
              "      <td>NaN</td>\n",
              "      <td>98.0</td>\n",
              "      <td>46.0000</td>\n",
              "      <td>35.0000</td>\n",
              "      <td>600.0</td>\n",
              "      <td>166.0000</td>\n",
              "      <td>26.1</td>\n",
              "      <td>1009.9</td>\n",
              "      <td>10.7</td>\n",
              "      <td>0.0</td>\n",
              "      <td>SW</td>\n",
              "      <td>2.7</td>\n",
              "      <td>Aotizhongxin</td>\n",
              "    </tr>\n",
              "    <tr>\n",
              "      <th>2368</th>\n",
              "      <td>2369</td>\n",
              "      <td>2013</td>\n",
              "      <td>6</td>\n",
              "      <td>7</td>\n",
              "      <td>16</td>\n",
              "      <td>NaN</td>\n",
              "      <td>137.0</td>\n",
              "      <td>12.0000</td>\n",
              "      <td>74.0000</td>\n",
              "      <td>2500.0</td>\n",
              "      <td>8.0000</td>\n",
              "      <td>20.7</td>\n",
              "      <td>1002.4</td>\n",
              "      <td>19.4</td>\n",
              "      <td>0.0</td>\n",
              "      <td>NNE</td>\n",
              "      <td>0.8</td>\n",
              "      <td>Aotizhongxin</td>\n",
              "    </tr>\n",
              "    <tr>\n",
              "      <th>2785</th>\n",
              "      <td>2786</td>\n",
              "      <td>2013</td>\n",
              "      <td>6</td>\n",
              "      <td>25</td>\n",
              "      <td>1</td>\n",
              "      <td>NaN</td>\n",
              "      <td>35.0</td>\n",
              "      <td>3.1416</td>\n",
              "      <td>35.1063</td>\n",
              "      <td>NaN</td>\n",
              "      <td>60.6186</td>\n",
              "      <td>20.8</td>\n",
              "      <td>996.5</td>\n",
              "      <td>20.5</td>\n",
              "      <td>0.0</td>\n",
              "      <td>NE</td>\n",
              "      <td>0.2</td>\n",
              "      <td>Aotizhongxin</td>\n",
              "    </tr>\n",
              "    <tr>\n",
              "      <th>2808</th>\n",
              "      <td>2809</td>\n",
              "      <td>2013</td>\n",
              "      <td>6</td>\n",
              "      <td>26</td>\n",
              "      <td>0</td>\n",
              "      <td>NaN</td>\n",
              "      <td>183.0</td>\n",
              "      <td>64.2600</td>\n",
              "      <td>40.0335</td>\n",
              "      <td>NaN</td>\n",
              "      <td>NaN</td>\n",
              "      <td>21.7</td>\n",
              "      <td>993.0</td>\n",
              "      <td>21.2</td>\n",
              "      <td>0.0</td>\n",
              "      <td>NNW</td>\n",
              "      <td>0.4</td>\n",
              "      <td>Aotizhongxin</td>\n",
              "    </tr>\n",
              "    <tr>\n",
              "      <th>...</th>\n",
              "      <td>...</td>\n",
              "      <td>...</td>\n",
              "      <td>...</td>\n",
              "      <td>...</td>\n",
              "      <td>...</td>\n",
              "      <td>...</td>\n",
              "      <td>...</td>\n",
              "      <td>...</td>\n",
              "      <td>...</td>\n",
              "      <td>...</td>\n",
              "      <td>...</td>\n",
              "      <td>...</td>\n",
              "      <td>...</td>\n",
              "      <td>...</td>\n",
              "      <td>...</td>\n",
              "      <td>...</td>\n",
              "      <td>...</td>\n",
              "      <td>...</td>\n",
              "    </tr>\n",
              "    <tr>\n",
              "      <th>34880</th>\n",
              "      <td>34881</td>\n",
              "      <td>2017</td>\n",
              "      <td>2</td>\n",
              "      <td>21</td>\n",
              "      <td>8</td>\n",
              "      <td>NaN</td>\n",
              "      <td>NaN</td>\n",
              "      <td>NaN</td>\n",
              "      <td>NaN</td>\n",
              "      <td>NaN</td>\n",
              "      <td>NaN</td>\n",
              "      <td>-0.3</td>\n",
              "      <td>1028.8</td>\n",
              "      <td>-15.8</td>\n",
              "      <td>0.0</td>\n",
              "      <td>SSE</td>\n",
              "      <td>1.0</td>\n",
              "      <td>Aotizhongxin</td>\n",
              "    </tr>\n",
              "    <tr>\n",
              "      <th>34883</th>\n",
              "      <td>34884</td>\n",
              "      <td>2017</td>\n",
              "      <td>2</td>\n",
              "      <td>21</td>\n",
              "      <td>11</td>\n",
              "      <td>NaN</td>\n",
              "      <td>NaN</td>\n",
              "      <td>NaN</td>\n",
              "      <td>NaN</td>\n",
              "      <td>NaN</td>\n",
              "      <td>NaN</td>\n",
              "      <td>1.3</td>\n",
              "      <td>1028.0</td>\n",
              "      <td>-16.1</td>\n",
              "      <td>0.0</td>\n",
              "      <td>S</td>\n",
              "      <td>1.5</td>\n",
              "      <td>Aotizhongxin</td>\n",
              "    </tr>\n",
              "    <tr>\n",
              "      <th>34885</th>\n",
              "      <td>34886</td>\n",
              "      <td>2017</td>\n",
              "      <td>2</td>\n",
              "      <td>21</td>\n",
              "      <td>13</td>\n",
              "      <td>NaN</td>\n",
              "      <td>NaN</td>\n",
              "      <td>NaN</td>\n",
              "      <td>NaN</td>\n",
              "      <td>NaN</td>\n",
              "      <td>NaN</td>\n",
              "      <td>-2.1</td>\n",
              "      <td>1027.4</td>\n",
              "      <td>-4.1</td>\n",
              "      <td>0.7</td>\n",
              "      <td>WSW</td>\n",
              "      <td>3.2</td>\n",
              "      <td>Aotizhongxin</td>\n",
              "    </tr>\n",
              "    <tr>\n",
              "      <th>35028</th>\n",
              "      <td>35029</td>\n",
              "      <td>2017</td>\n",
              "      <td>2</td>\n",
              "      <td>27</td>\n",
              "      <td>12</td>\n",
              "      <td>NaN</td>\n",
              "      <td>NaN</td>\n",
              "      <td>NaN</td>\n",
              "      <td>NaN</td>\n",
              "      <td>NaN</td>\n",
              "      <td>NaN</td>\n",
              "      <td>12.1</td>\n",
              "      <td>1017.3</td>\n",
              "      <td>-5.4</td>\n",
              "      <td>0.0</td>\n",
              "      <td>SSW</td>\n",
              "      <td>1.2</td>\n",
              "      <td>Aotizhongxin</td>\n",
              "    </tr>\n",
              "    <tr>\n",
              "      <th>35029</th>\n",
              "      <td>35030</td>\n",
              "      <td>2017</td>\n",
              "      <td>2</td>\n",
              "      <td>27</td>\n",
              "      <td>13</td>\n",
              "      <td>NaN</td>\n",
              "      <td>NaN</td>\n",
              "      <td>NaN</td>\n",
              "      <td>NaN</td>\n",
              "      <td>NaN</td>\n",
              "      <td>NaN</td>\n",
              "      <td>14.0</td>\n",
              "      <td>1015.8</td>\n",
              "      <td>-5.2</td>\n",
              "      <td>0.0</td>\n",
              "      <td>SSE</td>\n",
              "      <td>1.8</td>\n",
              "      <td>Aotizhongxin</td>\n",
              "    </tr>\n",
              "  </tbody>\n",
              "</table>\n",
              "<p>925 rows × 18 columns</p>\n",
              "</div>"
            ],
            "text/plain": [
              "          No  year  month  day  hour  PM2.5   PM10      SO2      NO2      CO  \\\n",
              "1509    1510  2013      5    2    21    NaN  183.0  63.0000  93.0000  1200.0   \n",
              "1837    1838  2013      5   16    13    NaN   98.0  46.0000  35.0000   600.0   \n",
              "2368    2369  2013      6    7    16    NaN  137.0  12.0000  74.0000  2500.0   \n",
              "2785    2786  2013      6   25     1    NaN   35.0   3.1416  35.1063     NaN   \n",
              "2808    2809  2013      6   26     0    NaN  183.0  64.2600  40.0335     NaN   \n",
              "...      ...   ...    ...  ...   ...    ...    ...      ...      ...     ...   \n",
              "34880  34881  2017      2   21     8    NaN    NaN      NaN      NaN     NaN   \n",
              "34883  34884  2017      2   21    11    NaN    NaN      NaN      NaN     NaN   \n",
              "34885  34886  2017      2   21    13    NaN    NaN      NaN      NaN     NaN   \n",
              "35028  35029  2017      2   27    12    NaN    NaN      NaN      NaN     NaN   \n",
              "35029  35030  2017      2   27    13    NaN    NaN      NaN      NaN     NaN   \n",
              "\n",
              "             O3  TEMP    PRES  DEWP  RAIN   wd  WSPM       station  \n",
              "1509    38.0000  18.5  1006.1   6.0   0.0   SE   2.8  Aotizhongxin  \n",
              "1837   166.0000  26.1  1009.9  10.7   0.0   SW   2.7  Aotizhongxin  \n",
              "2368     8.0000  20.7  1002.4  19.4   0.0  NNE   0.8  Aotizhongxin  \n",
              "2785    60.6186  20.8   996.5  20.5   0.0   NE   0.2  Aotizhongxin  \n",
              "2808        NaN  21.7   993.0  21.2   0.0  NNW   0.4  Aotizhongxin  \n",
              "...         ...   ...     ...   ...   ...  ...   ...           ...  \n",
              "34880       NaN  -0.3  1028.8 -15.8   0.0  SSE   1.0  Aotizhongxin  \n",
              "34883       NaN   1.3  1028.0 -16.1   0.0    S   1.5  Aotizhongxin  \n",
              "34885       NaN  -2.1  1027.4  -4.1   0.7  WSW   3.2  Aotizhongxin  \n",
              "35028       NaN  12.1  1017.3  -5.4   0.0  SSW   1.2  Aotizhongxin  \n",
              "35029       NaN  14.0  1015.8  -5.2   0.0  SSE   1.8  Aotizhongxin  \n",
              "\n",
              "[925 rows x 18 columns]"
            ]
          },
          "execution_count": 276,
          "metadata": {},
          "output_type": "execute_result"
        }
      ],
      "source": [
        "Aotizhongxin_df[Aotizhongxin_df['PM2.5'].isna()] #menampilkan data PM2.5 yang mengandung missing value"
      ]
    },
    {
      "cell_type": "markdown",
      "metadata": {},
      "source": [
        "Output diatas menunjukkan bahwa baris data tersebut mengandung banyak informasi. Maka dari itu kita menggunakan method imputation untuk mengganti missing value."
      ]
    },
    {
      "cell_type": "code",
      "execution_count": 277,
      "metadata": {},
      "outputs": [
        {
          "data": {
            "text/plain": [
              "9.0      600\n",
              "10.0     590\n",
              "12.0     576\n",
              "11.0     570\n",
              "8.0      563\n",
              "        ... \n",
              "444.0      1\n",
              "505.0      1\n",
              "565.0      1\n",
              "587.0      1\n",
              "462.0      1\n",
              "Name: PM2.5, Length: 545, dtype: int64"
            ]
          },
          "execution_count": 277,
          "metadata": {},
          "output_type": "execute_result"
        }
      ],
      "source": [
        "Aotizhongxin_df['PM2.5'].value_counts() #memeriksa nilai yang dominan"
      ]
    },
    {
      "cell_type": "code",
      "execution_count": 278,
      "metadata": {},
      "outputs": [
        {
          "data": {
            "text/plain": [
              "No            0\n",
              "year          0\n",
              "month         0\n",
              "day           0\n",
              "hour          0\n",
              "PM2.5         0\n",
              "PM10        718\n",
              "SO2         935\n",
              "NO2        1023\n",
              "CO         1776\n",
              "O3         1719\n",
              "TEMP         20\n",
              "PRES         20\n",
              "DEWP         20\n",
              "RAIN         20\n",
              "wd           81\n",
              "WSPM         14\n",
              "station       0\n",
              "dtype: int64"
            ]
          },
          "execution_count": 278,
          "metadata": {},
          "output_type": "execute_result"
        }
      ],
      "source": [
        "Aotizhongxin_df['PM2.5'].fillna(value=9.0, inplace=True)\n",
        "Aotizhongxin_df.isna().sum()"
      ]
    },
    {
      "cell_type": "markdown",
      "metadata": {},
      "source": [
        "Seperti yang bisa dilihat pada output tidak ada missing value pada kolom PM2.5. Selanjutnya lakukan hal yang sama pada kolom berikutnya"
      ]
    },
    {
      "cell_type": "code",
      "execution_count": 279,
      "metadata": {},
      "outputs": [
        {
          "data": {
            "text/plain": [
              "6.0      345\n",
              "18.0     322\n",
              "22.0     313\n",
              "14.0     299\n",
              "15.0     296\n",
              "        ... \n",
              "812.0      1\n",
              "757.0      1\n",
              "862.0      1\n",
              "845.0      1\n",
              "754.0      1\n",
              "Name: PM10, Length: 633, dtype: int64"
            ]
          },
          "execution_count": 279,
          "metadata": {},
          "output_type": "execute_result"
        }
      ],
      "source": [
        "Aotizhongxin_df.PM10.value_counts()"
      ]
    },
    {
      "cell_type": "markdown",
      "metadata": {},
      "source": [
        "- PM10 Column"
      ]
    },
    {
      "cell_type": "code",
      "execution_count": 280,
      "metadata": {},
      "outputs": [
        {
          "data": {
            "text/plain": [
              "2.0000      6706\n",
              "3.0000      2275\n",
              "4.0000      1901\n",
              "5.0000      1680\n",
              "6.0000      1493\n",
              "            ... \n",
              "17.1360        1\n",
              "18.2784        1\n",
              "24.2760        1\n",
              "25.4184        1\n",
              "157.0000       1\n",
              "Name: SO2, Length: 330, dtype: int64"
            ]
          },
          "execution_count": 280,
          "metadata": {},
          "output_type": "execute_result"
        }
      ],
      "source": [
        "Aotizhongxin_df.PM10.fillna(value=6.0, inplace=True)\n",
        "Aotizhongxin_df.SO2.value_counts()"
      ]
    },
    {
      "cell_type": "markdown",
      "metadata": {},
      "source": [
        "- SO2 Column"
      ]
    },
    {
      "cell_type": "code",
      "execution_count": 281,
      "metadata": {},
      "outputs": [
        {
          "data": {
            "text/plain": [
              "26.0000     408\n",
              "42.0000     394\n",
              "44.0000     393\n",
              "28.0000     392\n",
              "36.0000     391\n",
              "           ... \n",
              "81.7094       1\n",
              "59.9476       1\n",
              "78.4246       1\n",
              "76.9875       1\n",
              "215.0000      1\n",
              "Name: NO2, Length: 465, dtype: int64"
            ]
          },
          "execution_count": 281,
          "metadata": {},
          "output_type": "execute_result"
        }
      ],
      "source": [
        "Aotizhongxin_df.SO2.fillna(value=2.0000, inplace=True)\n",
        "Aotizhongxin_df.NO2.value_counts()"
      ]
    },
    {
      "cell_type": "markdown",
      "metadata": {},
      "source": [
        "- NO2 Column"
      ]
    },
    {
      "cell_type": "code",
      "execution_count": 282,
      "metadata": {},
      "outputs": [
        {
          "data": {
            "text/plain": [
              "400.0     2877\n",
              "500.0     2728\n",
              "300.0     2578\n",
              "600.0     2561\n",
              "700.0     2349\n",
              "          ... \n",
              "9200.0       2\n",
              "9300.0       1\n",
              "3899.0       1\n",
              "4599.0       1\n",
              "5599.0       1\n",
              "Name: CO, Length: 112, dtype: int64"
            ]
          },
          "execution_count": 282,
          "metadata": {},
          "output_type": "execute_result"
        }
      ],
      "source": [
        "Aotizhongxin_df.NO2.fillna(value=26.0000, inplace=True)\n",
        "Aotizhongxin_df.CO.value_counts()"
      ]
    },
    {
      "cell_type": "markdown",
      "metadata": {},
      "source": [
        "- CO Column"
      ]
    },
    {
      "cell_type": "code",
      "execution_count": 283,
      "metadata": {},
      "outputs": [
        {
          "data": {
            "text/plain": [
              "2.0000      4224\n",
              "1.0000      1520\n",
              "3.0000       582\n",
              "4.0000       536\n",
              "5.0000       449\n",
              "            ... \n",
              "82.8954        1\n",
              "95.7474        1\n",
              "52.2648        1\n",
              "35.1288        1\n",
              "332.0000       1\n",
              "Name: O3, Length: 831, dtype: int64"
            ]
          },
          "execution_count": 283,
          "metadata": {},
          "output_type": "execute_result"
        }
      ],
      "source": [
        "Aotizhongxin_df.CO.fillna(value=400.0, inplace=True)\n",
        "Aotizhongxin_df.O3.value_counts()"
      ]
    },
    {
      "cell_type": "markdown",
      "metadata": {},
      "source": [
        "- O3 Column"
      ]
    },
    {
      "cell_type": "code",
      "execution_count": 284,
      "metadata": {},
      "outputs": [
        {
          "data": {
            "text/plain": [
              " 3.0000     249\n",
              " 1.0000     240\n",
              " 2.0000     203\n",
              " 0.0000     196\n",
              "-1.0000     186\n",
              "           ... \n",
              " 10.4750      1\n",
              " 11.8125      1\n",
              " 10.2600      1\n",
              " 9.2750       1\n",
              "-0.6250       1\n",
              "Name: TEMP, Length: 967, dtype: int64"
            ]
          },
          "execution_count": 284,
          "metadata": {},
          "output_type": "execute_result"
        }
      ],
      "source": [
        "Aotizhongxin_df.O3.fillna(value=2.0000, inplace=True)\n",
        "Aotizhongxin_df.TEMP.value_counts()"
      ]
    },
    {
      "cell_type": "markdown",
      "metadata": {},
      "source": [
        "- TEMP Column"
      ]
    },
    {
      "cell_type": "code",
      "execution_count": 285,
      "metadata": {},
      "outputs": [
        {
          "data": {
            "text/plain": [
              "1023.00    256\n",
              "1019.00    252\n",
              "1024.00    249\n",
              "1025.00    248\n",
              "1020.00    239\n",
              "          ... \n",
              "1036.40      1\n",
              "1038.30      1\n",
              "1039.80      1\n",
              "1040.90      1\n",
              "1034.25      1\n",
              "Name: PRES, Length: 600, dtype: int64"
            ]
          },
          "execution_count": 285,
          "metadata": {},
          "output_type": "execute_result"
        }
      ],
      "source": [
        "Aotizhongxin_df.TEMP.fillna(value=3.0000, inplace=True)\n",
        "Aotizhongxin_df.PRES.value_counts()"
      ]
    },
    {
      "cell_type": "markdown",
      "metadata": {},
      "source": [
        "- PRES Column"
      ]
    },
    {
      "cell_type": "code",
      "execution_count": 286,
      "metadata": {},
      "outputs": [
        {
          "data": {
            "text/plain": [
              " 17.6    143\n",
              " 17.0    133\n",
              " 17.2    129\n",
              " 18.8    128\n",
              " 17.8    126\n",
              "        ... \n",
              "-31.4      1\n",
              "-31.1      1\n",
              "-30.8      1\n",
              "-28.7      1\n",
              "-28.9      1\n",
              "Name: DEWP, Length: 604, dtype: int64"
            ]
          },
          "execution_count": 286,
          "metadata": {},
          "output_type": "execute_result"
        }
      ],
      "source": [
        "Aotizhongxin_df.PRES.fillna(value=1023.00, inplace=True)\n",
        "Aotizhongxin_df.DEWP.value_counts()"
      ]
    },
    {
      "cell_type": "markdown",
      "metadata": {},
      "source": [
        "- DEWP Column"
      ]
    },
    {
      "cell_type": "code",
      "execution_count": 287,
      "metadata": {},
      "outputs": [
        {
          "data": {
            "text/plain": [
              "0.0     33664\n",
              "0.1       314\n",
              "0.2       161\n",
              "0.3       107\n",
              "0.5        73\n",
              "        ...  \n",
              "12.9        1\n",
              "13.6        1\n",
              "4.2         1\n",
              "5.0         1\n",
              "5.1         1\n",
              "Name: RAIN, Length: 127, dtype: int64"
            ]
          },
          "execution_count": 287,
          "metadata": {},
          "output_type": "execute_result"
        }
      ],
      "source": [
        "Aotizhongxin_df.DEWP.fillna(value=17.6, inplace=True)\n",
        "Aotizhongxin_df.RAIN.value_counts()"
      ]
    },
    {
      "cell_type": "markdown",
      "metadata": {},
      "source": [
        "- RAIN Column"
      ]
    },
    {
      "cell_type": "code",
      "execution_count": 288,
      "metadata": {},
      "outputs": [
        {
          "data": {
            "text/plain": [
              "NE     5140\n",
              "ENE    3950\n",
              "SW     3359\n",
              "E      2608\n",
              "NNE    2445\n",
              "WSW    2212\n",
              "SSW    2098\n",
              "N      2066\n",
              "NW     1860\n",
              "ESE    1717\n",
              "NNW    1589\n",
              "SE     1341\n",
              "S      1304\n",
              "W      1171\n",
              "WNW    1101\n",
              "SSE    1022\n",
              "Name: wd, dtype: int64"
            ]
          },
          "execution_count": 288,
          "metadata": {},
          "output_type": "execute_result"
        }
      ],
      "source": [
        "Aotizhongxin_df.RAIN.fillna(value=0.0, inplace=True)\n",
        "Aotizhongxin_df.wd.value_counts()"
      ]
    },
    {
      "cell_type": "markdown",
      "metadata": {},
      "source": [
        "- wd Column"
      ]
    },
    {
      "cell_type": "code",
      "execution_count": 289,
      "metadata": {},
      "outputs": [
        {
          "data": {
            "text/plain": [
              "1.2    1891\n",
              "1.1    1842\n",
              "1.0    1747\n",
              "1.3    1640\n",
              "0.9    1604\n",
              "       ... \n",
              "8.5       1\n",
              "9.2       1\n",
              "8.8       1\n",
              "8.9       1\n",
              "8.6       1\n",
              "Name: WSPM, Length: 91, dtype: int64"
            ]
          },
          "execution_count": 289,
          "metadata": {},
          "output_type": "execute_result"
        }
      ],
      "source": [
        "Aotizhongxin_df.wd.fillna(value=\"NE\", inplace=True)\n",
        "Aotizhongxin_df.WSPM.value_counts()"
      ]
    },
    {
      "cell_type": "markdown",
      "metadata": {},
      "source": [
        "- WSPM Column"
      ]
    },
    {
      "cell_type": "code",
      "execution_count": 290,
      "metadata": {},
      "outputs": [
        {
          "data": {
            "text/plain": [
              "No         0\n",
              "year       0\n",
              "month      0\n",
              "day        0\n",
              "hour       0\n",
              "PM2.5      0\n",
              "PM10       0\n",
              "SO2        0\n",
              "NO2        0\n",
              "CO         0\n",
              "O3         0\n",
              "TEMP       0\n",
              "PRES       0\n",
              "DEWP       0\n",
              "RAIN       0\n",
              "wd         0\n",
              "WSPM       0\n",
              "station    0\n",
              "dtype: int64"
            ]
          },
          "execution_count": 290,
          "metadata": {},
          "output_type": "execute_result"
        }
      ],
      "source": [
        "Aotizhongxin_df.WSPM.fillna(value=1.2, inplace=True)\n",
        "Aotizhongxin_df.isna().sum()"
      ]
    },
    {
      "cell_type": "markdown",
      "metadata": {},
      "source": [
        "#### Cleaning Changping_df"
      ]
    },
    {
      "cell_type": "markdown",
      "metadata": {},
      "source": [
        "- PM2.5 Column"
      ]
    },
    {
      "cell_type": "code",
      "execution_count": 291,
      "metadata": {},
      "outputs": [
        {
          "data": {
            "text/html": [
              "<div>\n",
              "<style scoped>\n",
              "    .dataframe tbody tr th:only-of-type {\n",
              "        vertical-align: middle;\n",
              "    }\n",
              "\n",
              "    .dataframe tbody tr th {\n",
              "        vertical-align: top;\n",
              "    }\n",
              "\n",
              "    .dataframe thead th {\n",
              "        text-align: right;\n",
              "    }\n",
              "</style>\n",
              "<table border=\"1\" class=\"dataframe\">\n",
              "  <thead>\n",
              "    <tr style=\"text-align: right;\">\n",
              "      <th></th>\n",
              "      <th>No</th>\n",
              "      <th>year</th>\n",
              "      <th>month</th>\n",
              "      <th>day</th>\n",
              "      <th>hour</th>\n",
              "      <th>PM2.5</th>\n",
              "      <th>PM10</th>\n",
              "      <th>SO2</th>\n",
              "      <th>NO2</th>\n",
              "      <th>CO</th>\n",
              "      <th>O3</th>\n",
              "      <th>TEMP</th>\n",
              "      <th>PRES</th>\n",
              "      <th>DEWP</th>\n",
              "      <th>RAIN</th>\n",
              "      <th>wd</th>\n",
              "      <th>WSPM</th>\n",
              "      <th>station</th>\n",
              "    </tr>\n",
              "  </thead>\n",
              "  <tbody>\n",
              "    <tr>\n",
              "      <th>1308</th>\n",
              "      <td>1309</td>\n",
              "      <td>2013</td>\n",
              "      <td>4</td>\n",
              "      <td>24</td>\n",
              "      <td>12</td>\n",
              "      <td>NaN</td>\n",
              "      <td>NaN</td>\n",
              "      <td>9.0000</td>\n",
              "      <td>33.0000</td>\n",
              "      <td>400.0</td>\n",
              "      <td>72.0000</td>\n",
              "      <td>22.6</td>\n",
              "      <td>999.2</td>\n",
              "      <td>-7.3</td>\n",
              "      <td>0.0</td>\n",
              "      <td>NNW</td>\n",
              "      <td>5.7</td>\n",
              "      <td>Changping</td>\n",
              "    </tr>\n",
              "    <tr>\n",
              "      <th>1309</th>\n",
              "      <td>1310</td>\n",
              "      <td>2013</td>\n",
              "      <td>4</td>\n",
              "      <td>24</td>\n",
              "      <td>13</td>\n",
              "      <td>NaN</td>\n",
              "      <td>302.0</td>\n",
              "      <td>3.0000</td>\n",
              "      <td>16.0000</td>\n",
              "      <td>300.0</td>\n",
              "      <td>89.0000</td>\n",
              "      <td>23.4</td>\n",
              "      <td>998.7</td>\n",
              "      <td>-7.7</td>\n",
              "      <td>0.0</td>\n",
              "      <td>NNW</td>\n",
              "      <td>7.3</td>\n",
              "      <td>Changping</td>\n",
              "    </tr>\n",
              "    <tr>\n",
              "      <th>1814</th>\n",
              "      <td>1815</td>\n",
              "      <td>2013</td>\n",
              "      <td>5</td>\n",
              "      <td>15</td>\n",
              "      <td>14</td>\n",
              "      <td>NaN</td>\n",
              "      <td>70.0</td>\n",
              "      <td>46.0000</td>\n",
              "      <td>22.0000</td>\n",
              "      <td>1100.0</td>\n",
              "      <td>157.0000</td>\n",
              "      <td>27.7</td>\n",
              "      <td>1005.8</td>\n",
              "      <td>2.0</td>\n",
              "      <td>0.0</td>\n",
              "      <td>SE</td>\n",
              "      <td>3.2</td>\n",
              "      <td>Changping</td>\n",
              "    </tr>\n",
              "    <tr>\n",
              "      <th>1815</th>\n",
              "      <td>1816</td>\n",
              "      <td>2013</td>\n",
              "      <td>5</td>\n",
              "      <td>15</td>\n",
              "      <td>15</td>\n",
              "      <td>NaN</td>\n",
              "      <td>71.0</td>\n",
              "      <td>39.0000</td>\n",
              "      <td>19.0000</td>\n",
              "      <td>1100.0</td>\n",
              "      <td>188.0000</td>\n",
              "      <td>27.9</td>\n",
              "      <td>1005.2</td>\n",
              "      <td>4.2</td>\n",
              "      <td>0.0</td>\n",
              "      <td>SSE</td>\n",
              "      <td>1.6</td>\n",
              "      <td>Changping</td>\n",
              "    </tr>\n",
              "    <tr>\n",
              "      <th>2417</th>\n",
              "      <td>2418</td>\n",
              "      <td>2013</td>\n",
              "      <td>6</td>\n",
              "      <td>9</td>\n",
              "      <td>17</td>\n",
              "      <td>NaN</td>\n",
              "      <td>NaN</td>\n",
              "      <td>5.9976</td>\n",
              "      <td>31.2056</td>\n",
              "      <td>NaN</td>\n",
              "      <td>18.6354</td>\n",
              "      <td>17.8</td>\n",
              "      <td>1003.4</td>\n",
              "      <td>15.8</td>\n",
              "      <td>0.1</td>\n",
              "      <td>NNW</td>\n",
              "      <td>0.4</td>\n",
              "      <td>Changping</td>\n",
              "    </tr>\n",
              "    <tr>\n",
              "      <th>...</th>\n",
              "      <td>...</td>\n",
              "      <td>...</td>\n",
              "      <td>...</td>\n",
              "      <td>...</td>\n",
              "      <td>...</td>\n",
              "      <td>...</td>\n",
              "      <td>...</td>\n",
              "      <td>...</td>\n",
              "      <td>...</td>\n",
              "      <td>...</td>\n",
              "      <td>...</td>\n",
              "      <td>...</td>\n",
              "      <td>...</td>\n",
              "      <td>...</td>\n",
              "      <td>...</td>\n",
              "      <td>...</td>\n",
              "      <td>...</td>\n",
              "      <td>...</td>\n",
              "    </tr>\n",
              "    <tr>\n",
              "      <th>34879</th>\n",
              "      <td>34880</td>\n",
              "      <td>2017</td>\n",
              "      <td>2</td>\n",
              "      <td>21</td>\n",
              "      <td>7</td>\n",
              "      <td>NaN</td>\n",
              "      <td>NaN</td>\n",
              "      <td>NaN</td>\n",
              "      <td>NaN</td>\n",
              "      <td>NaN</td>\n",
              "      <td>NaN</td>\n",
              "      <td>-1.7</td>\n",
              "      <td>1023.1</td>\n",
              "      <td>-17.4</td>\n",
              "      <td>0.0</td>\n",
              "      <td>E</td>\n",
              "      <td>1.3</td>\n",
              "      <td>Changping</td>\n",
              "    </tr>\n",
              "    <tr>\n",
              "      <th>34880</th>\n",
              "      <td>34881</td>\n",
              "      <td>2017</td>\n",
              "      <td>2</td>\n",
              "      <td>21</td>\n",
              "      <td>8</td>\n",
              "      <td>NaN</td>\n",
              "      <td>NaN</td>\n",
              "      <td>NaN</td>\n",
              "      <td>NaN</td>\n",
              "      <td>NaN</td>\n",
              "      <td>NaN</td>\n",
              "      <td>-1.8</td>\n",
              "      <td>1023.8</td>\n",
              "      <td>-16.7</td>\n",
              "      <td>0.0</td>\n",
              "      <td>W</td>\n",
              "      <td>1.2</td>\n",
              "      <td>Changping</td>\n",
              "    </tr>\n",
              "    <tr>\n",
              "      <th>34883</th>\n",
              "      <td>34884</td>\n",
              "      <td>2017</td>\n",
              "      <td>2</td>\n",
              "      <td>21</td>\n",
              "      <td>11</td>\n",
              "      <td>NaN</td>\n",
              "      <td>NaN</td>\n",
              "      <td>NaN</td>\n",
              "      <td>NaN</td>\n",
              "      <td>NaN</td>\n",
              "      <td>NaN</td>\n",
              "      <td>-0.5</td>\n",
              "      <td>1022.7</td>\n",
              "      <td>-16.0</td>\n",
              "      <td>0.0</td>\n",
              "      <td>ESE</td>\n",
              "      <td>1.9</td>\n",
              "      <td>Changping</td>\n",
              "    </tr>\n",
              "    <tr>\n",
              "      <th>34885</th>\n",
              "      <td>34886</td>\n",
              "      <td>2017</td>\n",
              "      <td>2</td>\n",
              "      <td>21</td>\n",
              "      <td>13</td>\n",
              "      <td>NaN</td>\n",
              "      <td>NaN</td>\n",
              "      <td>NaN</td>\n",
              "      <td>NaN</td>\n",
              "      <td>NaN</td>\n",
              "      <td>NaN</td>\n",
              "      <td>-1.0</td>\n",
              "      <td>1021.5</td>\n",
              "      <td>-9.4</td>\n",
              "      <td>0.0</td>\n",
              "      <td>SW</td>\n",
              "      <td>1.7</td>\n",
              "      <td>Changping</td>\n",
              "    </tr>\n",
              "    <tr>\n",
              "      <th>34887</th>\n",
              "      <td>34888</td>\n",
              "      <td>2017</td>\n",
              "      <td>2</td>\n",
              "      <td>21</td>\n",
              "      <td>15</td>\n",
              "      <td>NaN</td>\n",
              "      <td>6.0</td>\n",
              "      <td>NaN</td>\n",
              "      <td>34.0000</td>\n",
              "      <td>NaN</td>\n",
              "      <td>2.0000</td>\n",
              "      <td>-2.1</td>\n",
              "      <td>1019.4</td>\n",
              "      <td>-5.3</td>\n",
              "      <td>0.0</td>\n",
              "      <td>ENE</td>\n",
              "      <td>2.0</td>\n",
              "      <td>Changping</td>\n",
              "    </tr>\n",
              "  </tbody>\n",
              "</table>\n",
              "<p>774 rows × 18 columns</p>\n",
              "</div>"
            ],
            "text/plain": [
              "          No  year  month  day  hour  PM2.5   PM10      SO2      NO2      CO  \\\n",
              "1308    1309  2013      4   24    12    NaN    NaN   9.0000  33.0000   400.0   \n",
              "1309    1310  2013      4   24    13    NaN  302.0   3.0000  16.0000   300.0   \n",
              "1814    1815  2013      5   15    14    NaN   70.0  46.0000  22.0000  1100.0   \n",
              "1815    1816  2013      5   15    15    NaN   71.0  39.0000  19.0000  1100.0   \n",
              "2417    2418  2013      6    9    17    NaN    NaN   5.9976  31.2056     NaN   \n",
              "...      ...   ...    ...  ...   ...    ...    ...      ...      ...     ...   \n",
              "34879  34880  2017      2   21     7    NaN    NaN      NaN      NaN     NaN   \n",
              "34880  34881  2017      2   21     8    NaN    NaN      NaN      NaN     NaN   \n",
              "34883  34884  2017      2   21    11    NaN    NaN      NaN      NaN     NaN   \n",
              "34885  34886  2017      2   21    13    NaN    NaN      NaN      NaN     NaN   \n",
              "34887  34888  2017      2   21    15    NaN    6.0      NaN  34.0000     NaN   \n",
              "\n",
              "             O3  TEMP    PRES  DEWP  RAIN   wd  WSPM    station  \n",
              "1308    72.0000  22.6   999.2  -7.3   0.0  NNW   5.7  Changping  \n",
              "1309    89.0000  23.4   998.7  -7.7   0.0  NNW   7.3  Changping  \n",
              "1814   157.0000  27.7  1005.8   2.0   0.0   SE   3.2  Changping  \n",
              "1815   188.0000  27.9  1005.2   4.2   0.0  SSE   1.6  Changping  \n",
              "2417    18.6354  17.8  1003.4  15.8   0.1  NNW   0.4  Changping  \n",
              "...         ...   ...     ...   ...   ...  ...   ...        ...  \n",
              "34879       NaN  -1.7  1023.1 -17.4   0.0    E   1.3  Changping  \n",
              "34880       NaN  -1.8  1023.8 -16.7   0.0    W   1.2  Changping  \n",
              "34883       NaN  -0.5  1022.7 -16.0   0.0  ESE   1.9  Changping  \n",
              "34885       NaN  -1.0  1021.5  -9.4   0.0   SW   1.7  Changping  \n",
              "34887    2.0000  -2.1  1019.4  -5.3   0.0  ENE   2.0  Changping  \n",
              "\n",
              "[774 rows x 18 columns]"
            ]
          },
          "execution_count": 291,
          "metadata": {},
          "output_type": "execute_result"
        }
      ],
      "source": [
        "Changping_df[Changping_df['PM2.5'].isna()] #menampilkan data PM2.5 yang mengandung missing value"
      ]
    },
    {
      "cell_type": "code",
      "execution_count": 292,
      "metadata": {},
      "outputs": [
        {
          "data": {
            "text/plain": [
              "11.0     706\n",
              "12.0     699\n",
              "3.0      690\n",
              "10.0     687\n",
              "13.0     682\n",
              "        ... \n",
              "79.5       1\n",
              "112.4      1\n",
              "341.0      1\n",
              "393.0      1\n",
              "527.0      1\n",
              "Name: PM2.5, Length: 481, dtype: int64"
            ]
          },
          "execution_count": 292,
          "metadata": {},
          "output_type": "execute_result"
        }
      ],
      "source": [
        "Changping_df['PM2.5'].value_counts()"
      ]
    },
    {
      "cell_type": "code",
      "execution_count": 293,
      "metadata": {},
      "outputs": [
        {
          "data": {
            "text/plain": [
              "6.0      353\n",
              "22.0     349\n",
              "18.0     348\n",
              "24.0     346\n",
              "19.0     333\n",
              "        ... \n",
              "976.0      1\n",
              "608.0      1\n",
              "747.0      1\n",
              "992.0      1\n",
              "559.0      1\n",
              "Name: PM10, Length: 562, dtype: int64"
            ]
          },
          "execution_count": 293,
          "metadata": {},
          "output_type": "execute_result"
        }
      ],
      "source": [
        "Changping_df['PM2.5'].fillna(value= 11.0, inplace=True)\n",
        "Changping_df.PM10.value_counts()"
      ]
    },
    {
      "cell_type": "markdown",
      "metadata": {},
      "source": [
        "- PM10 Column"
      ]
    },
    {
      "cell_type": "code",
      "execution_count": 294,
      "metadata": {},
      "outputs": [
        {
          "data": {
            "text/plain": [
              "2.0000      9215\n",
              "3.0000      2732\n",
              "4.0000      1734\n",
              "5.0000      1498\n",
              "6.0000      1394\n",
              "            ... \n",
              "41.9832        1\n",
              "32.8440        1\n",
              "23.9904        1\n",
              "52.8360        1\n",
              "215.0000       1\n",
              "Name: SO2, Length: 294, dtype: int64"
            ]
          },
          "execution_count": 294,
          "metadata": {},
          "output_type": "execute_result"
        }
      ],
      "source": [
        "Changping_df.PM10.fillna(value= 6.0, inplace=True)\n",
        "Changping_df.SO2.value_counts()"
      ]
    },
    {
      "cell_type": "markdown",
      "metadata": {},
      "source": [
        "- SO2 Column"
      ]
    },
    {
      "cell_type": "code",
      "execution_count": 295,
      "metadata": {},
      "outputs": [
        {
          "data": {
            "text/plain": [
              "20.0000     684\n",
              "24.0000     675\n",
              "25.0000     673\n",
              "22.0000     668\n",
              "17.0000     661\n",
              "           ... \n",
              "47.4243       1\n",
              "33.0533       1\n",
              "36.9540       1\n",
              "36.7487       1\n",
              "203.0000      1\n",
              "Name: NO2, Length: 459, dtype: int64"
            ]
          },
          "execution_count": 295,
          "metadata": {},
          "output_type": "execute_result"
        }
      ],
      "source": [
        "Changping_df.SO2.fillna(value= 2.0000, inplace=True)\n",
        "Changping_df.NO2.value_counts()"
      ]
    },
    {
      "cell_type": "markdown",
      "metadata": {},
      "source": [
        "- NO2 Column "
      ]
    },
    {
      "cell_type": "code",
      "execution_count": 296,
      "metadata": {},
      "outputs": [
        {
          "data": {
            "text/plain": [
              "500.0     3193\n",
              "400.0     3170\n",
              "600.0     2800\n",
              "300.0     2763\n",
              "700.0     2477\n",
              "          ... \n",
              "5299.0       1\n",
              "6299.0       1\n",
              "9800.0       1\n",
              "4099.0       1\n",
              "9700.0       1\n",
              "Name: CO, Length: 115, dtype: int64"
            ]
          },
          "execution_count": 296,
          "metadata": {},
          "output_type": "execute_result"
        }
      ],
      "source": [
        "Changping_df.NO2.fillna(value= 20.0000, inplace=True)\n",
        "Changping_df.CO.value_counts()"
      ]
    },
    {
      "cell_type": "markdown",
      "metadata": {},
      "source": [
        "- CO Column"
      ]
    },
    {
      "cell_type": "code",
      "execution_count": 297,
      "metadata": {},
      "outputs": [
        {
          "data": {
            "text/plain": [
              "2.0000      2273\n",
              "3.0000       829\n",
              "4.0000       717\n",
              "5.0000       584\n",
              "6.0000       576\n",
              "            ... \n",
              "178.8570       1\n",
              "174.3588       1\n",
              "193.2084       1\n",
              "226.1952       1\n",
              "303.0000       1\n",
              "Name: O3, Length: 886, dtype: int64"
            ]
          },
          "execution_count": 297,
          "metadata": {},
          "output_type": "execute_result"
        }
      ],
      "source": [
        "Changping_df.CO.fillna(value= 500.0, inplace=True)\n",
        "Changping_df.O3.value_counts()"
      ]
    },
    {
      "cell_type": "markdown",
      "metadata": {},
      "source": [
        "- O3 Column"
      ]
    },
    {
      "cell_type": "code",
      "execution_count": 298,
      "metadata": {},
      "outputs": [
        {
          "data": {
            "text/plain": [
              " 3.000000     240\n",
              " 1.000000     224\n",
              "-2.000000     205\n",
              " 2.000000     202\n",
              " 0.000000     186\n",
              "             ... \n",
              " 6.575000       1\n",
              " 8.314286       1\n",
              " 8.725000       1\n",
              " 11.187500      1\n",
              "-2.450000       1\n",
              "Name: TEMP, Length: 998, dtype: int64"
            ]
          },
          "execution_count": 298,
          "metadata": {},
          "output_type": "execute_result"
        }
      ],
      "source": [
        "Changping_df.O3.fillna(value= 2.0000, inplace=True)\n",
        "Changping_df.TEMP.value_counts()"
      ]
    },
    {
      "cell_type": "markdown",
      "metadata": {},
      "source": [
        "- TEMP Column"
      ]
    },
    {
      "cell_type": "code",
      "execution_count": 299,
      "metadata": {},
      "outputs": [
        {
          "data": {
            "text/plain": [
              "1019.00    295\n",
              "1021.00    286\n",
              "1018.00    266\n",
              "1015.00    246\n",
              "1022.00    242\n",
              "          ... \n",
              "1035.40      1\n",
              "1003.75      1\n",
              "1034.70      1\n",
              "1001.75      1\n",
              "1031.30      1\n",
              "Name: PRES, Length: 592, dtype: int64"
            ]
          },
          "execution_count": 299,
          "metadata": {},
          "output_type": "execute_result"
        }
      ],
      "source": [
        "Changping_df.TEMP.fillna(value= 3.000000, inplace=True)\n",
        "Changping_df.PRES.value_counts()"
      ]
    },
    {
      "cell_type": "markdown",
      "metadata": {},
      "source": [
        "- PRES Column"
      ]
    },
    {
      "cell_type": "code",
      "execution_count": 300,
      "metadata": {},
      "outputs": [
        {
          "data": {
            "text/plain": [
              " 16.6    137\n",
              " 15.0    133\n",
              " 15.7    126\n",
              " 16.1    122\n",
              " 15.3    120\n",
              "        ... \n",
              "-33.4      1\n",
              "-29.4      1\n",
              "-29.2      1\n",
              "-31.6      1\n",
              " 26.5      1\n",
              "Name: DEWP, Length: 602, dtype: int64"
            ]
          },
          "execution_count": 300,
          "metadata": {},
          "output_type": "execute_result"
        }
      ],
      "source": [
        "Changping_df.PRES.fillna(value= 1019.00, inplace=True)\n",
        "Changping_df.DEWP.value_counts()"
      ]
    },
    {
      "cell_type": "markdown",
      "metadata": {},
      "source": [
        "- DEWP Column"
      ]
    },
    {
      "cell_type": "code",
      "execution_count": 301,
      "metadata": {},
      "outputs": [
        {
          "data": {
            "text/plain": [
              "0.0     33663\n",
              "0.1       287\n",
              "0.2       146\n",
              "0.3       122\n",
              "0.5        79\n",
              "        ...  \n",
              "28.7        1\n",
              "23.7        1\n",
              "8.7         1\n",
              "8.0         1\n",
              "6.3         1\n",
              "Name: RAIN, Length: 116, dtype: int64"
            ]
          },
          "execution_count": 301,
          "metadata": {},
          "output_type": "execute_result"
        }
      ],
      "source": [
        "Changping_df.DEWP.fillna(value= 16.6, inplace=True)\n",
        "Changping_df.RAIN.value_counts()"
      ]
    },
    {
      "cell_type": "markdown",
      "metadata": {},
      "source": [
        "- RAIN Column"
      ]
    },
    {
      "cell_type": "code",
      "execution_count": 302,
      "metadata": {},
      "outputs": [
        {
          "data": {
            "text/plain": [
              "NNW    4776\n",
              "NW     3838\n",
              "N      3777\n",
              "WNW    2877\n",
              "ESE    2786\n",
              "E      2427\n",
              "NNE    1919\n",
              "SSE    1853\n",
              "SE     1823\n",
              "NE     1721\n",
              "S      1700\n",
              "W      1412\n",
              "ENE    1305\n",
              "SSW    1126\n",
              "SW      880\n",
              "WSW     704\n",
              "Name: wd, dtype: int64"
            ]
          },
          "execution_count": 302,
          "metadata": {},
          "output_type": "execute_result"
        }
      ],
      "source": [
        "Changping_df.RAIN.fillna(value= 0.0, inplace=True)\n",
        "Changping_df.wd.value_counts()"
      ]
    },
    {
      "cell_type": "markdown",
      "metadata": {},
      "source": [
        "- wd Column"
      ]
    },
    {
      "cell_type": "code",
      "execution_count": 303,
      "metadata": {},
      "outputs": [
        {
          "data": {
            "text/plain": [
              "1.2     1934\n",
              "1.1     1928\n",
              "1.0     1922\n",
              "1.3     1859\n",
              "0.9     1787\n",
              "        ... \n",
              "9.1        1\n",
              "7.8        1\n",
              "10.0       1\n",
              "9.0        1\n",
              "9.4        1\n",
              "Name: WSPM, Length: 95, dtype: int64"
            ]
          },
          "execution_count": 303,
          "metadata": {},
          "output_type": "execute_result"
        }
      ],
      "source": [
        "Changping_df.wd.fillna(value= \"NNW\", inplace=True)\n",
        "Changping_df.WSPM.value_counts()"
      ]
    },
    {
      "cell_type": "markdown",
      "metadata": {},
      "source": [
        "- WSPM Column"
      ]
    },
    {
      "cell_type": "code",
      "execution_count": 304,
      "metadata": {},
      "outputs": [
        {
          "data": {
            "text/plain": [
              "No         0\n",
              "year       0\n",
              "month      0\n",
              "day        0\n",
              "hour       0\n",
              "PM2.5      0\n",
              "PM10       0\n",
              "SO2        0\n",
              "NO2        0\n",
              "CO         0\n",
              "O3         0\n",
              "TEMP       0\n",
              "PRES       0\n",
              "DEWP       0\n",
              "RAIN       0\n",
              "wd         0\n",
              "WSPM       0\n",
              "station    0\n",
              "dtype: int64"
            ]
          },
          "execution_count": 304,
          "metadata": {},
          "output_type": "execute_result"
        }
      ],
      "source": [
        "Changping_df.WSPM.fillna(value= 1.2, inplace=True)\n",
        "Changping_df.isna().sum()"
      ]
    },
    {
      "cell_type": "markdown",
      "metadata": {},
      "source": [
        "#### Cleaning Dongsi_df"
      ]
    },
    {
      "cell_type": "markdown",
      "metadata": {},
      "source": [
        "- PM2.5 Column"
      ]
    },
    {
      "cell_type": "code",
      "execution_count": 305,
      "metadata": {},
      "outputs": [
        {
          "data": {
            "text/plain": [
              "3.0      892\n",
              "10.0     545\n",
              "8.0      524\n",
              "12.0     517\n",
              "9.0      504\n",
              "        ... \n",
              "684.0      1\n",
              "628.0      1\n",
              "640.0      1\n",
              "538.0      1\n",
              "681.0      1\n",
              "Name: PM2.5, Length: 582, dtype: int64"
            ]
          },
          "execution_count": 305,
          "metadata": {},
          "output_type": "execute_result"
        }
      ],
      "source": [
        "Dongsi_df[\"PM2.5\"].value_counts()"
      ]
    },
    {
      "cell_type": "code",
      "execution_count": 306,
      "metadata": {},
      "outputs": [
        {
          "data": {
            "text/plain": [
              "6.0      405\n",
              "5.0      377\n",
              "16.0     296\n",
              "22.0     291\n",
              "24.0     286\n",
              "        ... \n",
              "642.0      1\n",
              "453.0      1\n",
              "649.0      1\n",
              "669.0      1\n",
              "825.0      1\n",
              "Name: PM10, Length: 666, dtype: int64"
            ]
          },
          "execution_count": 306,
          "metadata": {},
          "output_type": "execute_result"
        }
      ],
      "source": [
        "Dongsi_df[\"PM2.5\"].fillna(value= 3.0, inplace=True)\n",
        "Dongsi_df.PM10.value_counts()"
      ]
    },
    {
      "cell_type": "markdown",
      "metadata": {},
      "source": [
        "- PM10 Column"
      ]
    },
    {
      "cell_type": "code",
      "execution_count": 307,
      "metadata": {},
      "outputs": [
        {
          "data": {
            "text/plain": [
              "2.0000      6248\n",
              "3.0000      1788\n",
              "4.0000      1671\n",
              "5.0000      1432\n",
              "6.0000      1408\n",
              "            ... \n",
              "71.4000        1\n",
              "67.4016        1\n",
              "38.5560        1\n",
              "60.2616        1\n",
              "172.0000       1\n",
              "Name: SO2, Length: 392, dtype: int64"
            ]
          },
          "execution_count": 307,
          "metadata": {},
          "output_type": "execute_result"
        }
      ],
      "source": [
        "Dongsi_df.PM10.fillna(value= 6.0, inplace=True)\n",
        "Dongsi_df.SO2.value_counts()"
      ]
    },
    {
      "cell_type": "markdown",
      "metadata": {},
      "source": [
        "- SO2 Column"
      ]
    },
    {
      "cell_type": "code",
      "execution_count": 308,
      "metadata": {},
      "outputs": [
        {
          "data": {
            "text/plain": [
              "20.0000     468\n",
              "32.0000     456\n",
              "30.0000     448\n",
              "34.0000     444\n",
              "28.0000     436\n",
              "           ... \n",
              "139.1934      1\n",
              "134.6768      1\n",
              "103.2659      1\n",
              "212.0000      1\n",
              "203.0000      1\n",
              "Name: NO2, Length: 701, dtype: int64"
            ]
          },
          "execution_count": 308,
          "metadata": {},
          "output_type": "execute_result"
        }
      ],
      "source": [
        "Dongsi_df.SO2.fillna(value= 2.0000, inplace=True)\n",
        "Dongsi_df.NO2.value_counts()"
      ]
    },
    {
      "cell_type": "markdown",
      "metadata": {},
      "source": [
        "- NO2 Column"
      ]
    },
    {
      "cell_type": "code",
      "execution_count": 309,
      "metadata": {},
      "outputs": [
        {
          "data": {
            "text/plain": [
              "300.0     2419\n",
              "400.0     2137\n",
              "700.0     2076\n",
              "600.0     2050\n",
              "500.0     1978\n",
              "          ... \n",
              "6599.0       1\n",
              "5299.0       1\n",
              "5099.0       1\n",
              "4599.0       1\n",
              "9800.0       1\n",
              "Name: CO, Length: 115, dtype: int64"
            ]
          },
          "execution_count": 309,
          "metadata": {},
          "output_type": "execute_result"
        }
      ],
      "source": [
        "Dongsi_df.NO2.fillna(value= 20.0000, inplace=True)\n",
        "Dongsi_df.CO.value_counts()"
      ]
    },
    {
      "cell_type": "markdown",
      "metadata": {},
      "source": [
        "- CO Column"
      ]
    },
    {
      "cell_type": "code",
      "execution_count": 310,
      "metadata": {},
      "outputs": [
        {
          "data": {
            "text/plain": [
              "2.0000      2950\n",
              "3.0000       904\n",
              "4.0000       862\n",
              "5.0000       600\n",
              "6.0000       541\n",
              "            ... \n",
              "111.3840       1\n",
              "91.0350        1\n",
              "88.4646        1\n",
              "93.8196        1\n",
              "346.0000       1\n",
              "Name: O3, Length: 737, dtype: int64"
            ]
          },
          "execution_count": 310,
          "metadata": {},
          "output_type": "execute_result"
        }
      ],
      "source": [
        "Dongsi_df.CO.fillna(value= 300.0, inplace=True)\n",
        "Dongsi_df.O3.value_counts()"
      ]
    },
    {
      "cell_type": "markdown",
      "metadata": {},
      "source": [
        "- O3 Column"
      ]
    },
    {
      "cell_type": "code",
      "execution_count": 311,
      "metadata": {},
      "outputs": [
        {
          "data": {
            "text/plain": [
              " 3.000000     401\n",
              " 0.000000     332\n",
              " 1.000000     326\n",
              "-1.000000     315\n",
              " 2.000000     302\n",
              "             ... \n",
              " 11.812500      1\n",
              " 10.260000      1\n",
              " 9.275000       1\n",
              " 9.266667       1\n",
              "-0.625000       1\n",
              "Name: TEMP, Length: 963, dtype: int64"
            ]
          },
          "execution_count": 311,
          "metadata": {},
          "output_type": "execute_result"
        }
      ],
      "source": [
        "Dongsi_df.O3.fillna(value= 2.0000, inplace=True)\n",
        "Dongsi_df.TEMP.value_counts()"
      ]
    },
    {
      "cell_type": "markdown",
      "metadata": {},
      "source": [
        "- TEMP Column"
      ]
    },
    {
      "cell_type": "code",
      "execution_count": 312,
      "metadata": {},
      "outputs": [
        {
          "data": {
            "text/plain": [
              "1023.000000    305\n",
              "1021.000000    258\n",
              "1025.000000    254\n",
              "1024.000000    253\n",
              "1022.000000    244\n",
              "              ... \n",
              "1036.300000      1\n",
              "1038.100000      1\n",
              "1037.600000      1\n",
              "1020.666667      1\n",
              "1034.250000      1\n",
              "Name: PRES, Length: 595, dtype: int64"
            ]
          },
          "execution_count": 312,
          "metadata": {},
          "output_type": "execute_result"
        }
      ],
      "source": [
        "Dongsi_df.TEMP.fillna(value= 3.000000, inplace=True)\n",
        "Dongsi_df.PRES.value_counts()"
      ]
    },
    {
      "cell_type": "markdown",
      "metadata": {},
      "source": [
        "- PRES Column"
      ]
    },
    {
      "cell_type": "code",
      "execution_count": 313,
      "metadata": {},
      "outputs": [
        {
          "data": {
            "text/plain": [
              " 17.6    142\n",
              " 16.9    133\n",
              " 16.2    130\n",
              " 16.4    130\n",
              " 17.0    129\n",
              "        ... \n",
              "-28.7      1\n",
              " 27.6      1\n",
              " 27.9      1\n",
              " 28.0      1\n",
              "-30.4      1\n",
              "Name: DEWP, Length: 617, dtype: int64"
            ]
          },
          "execution_count": 313,
          "metadata": {},
          "output_type": "execute_result"
        }
      ],
      "source": [
        "Dongsi_df.PRES.fillna(value= 1023.000000, inplace=True)\n",
        "Dongsi_df.DEWP.value_counts()"
      ]
    },
    {
      "cell_type": "markdown",
      "metadata": {},
      "source": [
        "- DEWP Column"
      ]
    },
    {
      "cell_type": "code",
      "execution_count": 314,
      "metadata": {},
      "outputs": [
        {
          "data": {
            "text/plain": [
              "0.0     33673\n",
              "0.1       310\n",
              "0.2       147\n",
              "0.3       118\n",
              "0.5        74\n",
              "        ...  \n",
              "17.2        1\n",
              "10.1        1\n",
              "9.9         1\n",
              "9.6         1\n",
              "14.0        1\n",
              "Name: RAIN, Length: 119, dtype: int64"
            ]
          },
          "execution_count": 314,
          "metadata": {},
          "output_type": "execute_result"
        }
      ],
      "source": [
        "Dongsi_df.DEWP.fillna(value= 17.6, inplace=True)\n",
        "Dongsi_df.RAIN.value_counts()"
      ]
    },
    {
      "cell_type": "markdown",
      "metadata": {},
      "source": [
        "- RAIN Column"
      ]
    },
    {
      "cell_type": "code",
      "execution_count": 315,
      "metadata": {},
      "outputs": [
        {
          "data": {
            "text/plain": [
              "ENE    3861\n",
              "E      3564\n",
              "NE     3540\n",
              "ESE    2706\n",
              "SW     2481\n",
              "NW     2466\n",
              "SSW    1953\n",
              "NNE    1928\n",
              "SE     1880\n",
              "N      1865\n",
              "WSW    1769\n",
              "NNW    1693\n",
              "S      1547\n",
              "SSE    1402\n",
              "WNW    1347\n",
              "W       984\n",
              "Name: wd, dtype: int64"
            ]
          },
          "execution_count": 315,
          "metadata": {},
          "output_type": "execute_result"
        }
      ],
      "source": [
        "Dongsi_df.RAIN.fillna(value= 0.0, inplace=True)\n",
        "Dongsi_df.wd.value_counts()"
      ]
    },
    {
      "cell_type": "markdown",
      "metadata": {},
      "source": [
        "- wd Column"
      ]
    },
    {
      "cell_type": "code",
      "execution_count": 316,
      "metadata": {},
      "outputs": [
        {
          "data": {
            "text/plain": [
              "1.2     1863\n",
              "1.1     1838\n",
              "1.0     1782\n",
              "1.3     1713\n",
              "0.9     1642\n",
              "        ... \n",
              "9.5        1\n",
              "10.3       1\n",
              "9.8        1\n",
              "9.6        1\n",
              "9.0        1\n",
              "Name: WSPM, Length: 101, dtype: int64"
            ]
          },
          "execution_count": 316,
          "metadata": {},
          "output_type": "execute_result"
        }
      ],
      "source": [
        "Dongsi_df.wd.fillna(value= \"ENE\", inplace=True)\n",
        "Dongsi_df.WSPM.value_counts()"
      ]
    },
    {
      "cell_type": "markdown",
      "metadata": {},
      "source": [
        "- WSPM Column"
      ]
    },
    {
      "cell_type": "code",
      "execution_count": 317,
      "metadata": {},
      "outputs": [
        {
          "data": {
            "text/plain": [
              "No         0\n",
              "year       0\n",
              "month      0\n",
              "day        0\n",
              "hour       0\n",
              "PM2.5      0\n",
              "PM10       0\n",
              "SO2        0\n",
              "NO2        0\n",
              "CO         0\n",
              "O3         0\n",
              "TEMP       0\n",
              "PRES       0\n",
              "DEWP       0\n",
              "RAIN       0\n",
              "wd         0\n",
              "WSPM       0\n",
              "station    0\n",
              "dtype: int64"
            ]
          },
          "execution_count": 317,
          "metadata": {},
          "output_type": "execute_result"
        }
      ],
      "source": [
        "Dongsi_df.WSPM.fillna(value= 1.2, inplace=True)\n",
        "Dongsi_df.isna().sum()"
      ]
    },
    {
      "cell_type": "code",
      "execution_count": 251,
      "metadata": {},
      "outputs": [],
      "source": [
        "datetime_columns = [\"year\",\"month\",\"day\",\"hour\"]\n",
        " \n",
        "for column in datetime_columns:\n",
        "  Aotizhongxin_df[column] = pd.to_datetime(Aotizhongxin_df[column])\n",
        "  Changping_df[column] = pd.to_datetime(Changping_df[column])\n",
        "  Dongsi_df[column] = pd.to_datetime(Dongsi_df[column])"
      ]
    },
    {
      "cell_type": "markdown",
      "metadata": {
        "id": "EyPJaCDm9KFb"
      },
      "source": [
        "## Exploratory Data Analysis (EDA)"
      ]
    },
    {
      "cell_type": "markdown",
      "metadata": {
        "id": "hxgJ6qd69Mce"
      },
      "source": [
        "### Explore Data Aotizhongxin"
      ]
    },
    {
      "cell_type": "markdown",
      "metadata": {},
      "source": [
        "Pada tahap eksplorasi data Aotizhongzin, kita akan merangkum parameter statistik dari Aotizhongxin_df menggunakan method describe()."
      ]
    },
    {
      "cell_type": "code",
      "execution_count": 318,
      "metadata": {},
      "outputs": [
        {
          "data": {
            "text/html": [
              "<div>\n",
              "<style scoped>\n",
              "    .dataframe tbody tr th:only-of-type {\n",
              "        vertical-align: middle;\n",
              "    }\n",
              "\n",
              "    .dataframe tbody tr th {\n",
              "        vertical-align: top;\n",
              "    }\n",
              "\n",
              "    .dataframe thead th {\n",
              "        text-align: right;\n",
              "    }\n",
              "</style>\n",
              "<table border=\"1\" class=\"dataframe\">\n",
              "  <thead>\n",
              "    <tr style=\"text-align: right;\">\n",
              "      <th></th>\n",
              "      <th>No</th>\n",
              "      <th>year</th>\n",
              "      <th>month</th>\n",
              "      <th>day</th>\n",
              "      <th>hour</th>\n",
              "      <th>PM2.5</th>\n",
              "      <th>PM10</th>\n",
              "      <th>SO2</th>\n",
              "      <th>NO2</th>\n",
              "      <th>CO</th>\n",
              "      <th>O3</th>\n",
              "      <th>TEMP</th>\n",
              "      <th>PRES</th>\n",
              "      <th>DEWP</th>\n",
              "      <th>RAIN</th>\n",
              "      <th>wd</th>\n",
              "      <th>WSPM</th>\n",
              "      <th>station</th>\n",
              "    </tr>\n",
              "  </thead>\n",
              "  <tbody>\n",
              "    <tr>\n",
              "      <th>count</th>\n",
              "      <td>35064.000000</td>\n",
              "      <td>35064.000000</td>\n",
              "      <td>35064.000000</td>\n",
              "      <td>35064.000000</td>\n",
              "      <td>35064.000000</td>\n",
              "      <td>35064.000000</td>\n",
              "      <td>35064.000000</td>\n",
              "      <td>35064.000000</td>\n",
              "      <td>35064.000000</td>\n",
              "      <td>35064.000000</td>\n",
              "      <td>35064.000000</td>\n",
              "      <td>35064.000000</td>\n",
              "      <td>35064.000000</td>\n",
              "      <td>35064.000000</td>\n",
              "      <td>35064.000000</td>\n",
              "      <td>35064</td>\n",
              "      <td>35064.000000</td>\n",
              "      <td>35064</td>\n",
              "    </tr>\n",
              "    <tr>\n",
              "      <th>unique</th>\n",
              "      <td>NaN</td>\n",
              "      <td>NaN</td>\n",
              "      <td>NaN</td>\n",
              "      <td>NaN</td>\n",
              "      <td>NaN</td>\n",
              "      <td>NaN</td>\n",
              "      <td>NaN</td>\n",
              "      <td>NaN</td>\n",
              "      <td>NaN</td>\n",
              "      <td>NaN</td>\n",
              "      <td>NaN</td>\n",
              "      <td>NaN</td>\n",
              "      <td>NaN</td>\n",
              "      <td>NaN</td>\n",
              "      <td>NaN</td>\n",
              "      <td>16</td>\n",
              "      <td>NaN</td>\n",
              "      <td>1</td>\n",
              "    </tr>\n",
              "    <tr>\n",
              "      <th>top</th>\n",
              "      <td>NaN</td>\n",
              "      <td>NaN</td>\n",
              "      <td>NaN</td>\n",
              "      <td>NaN</td>\n",
              "      <td>NaN</td>\n",
              "      <td>NaN</td>\n",
              "      <td>NaN</td>\n",
              "      <td>NaN</td>\n",
              "      <td>NaN</td>\n",
              "      <td>NaN</td>\n",
              "      <td>NaN</td>\n",
              "      <td>NaN</td>\n",
              "      <td>NaN</td>\n",
              "      <td>NaN</td>\n",
              "      <td>NaN</td>\n",
              "      <td>NE</td>\n",
              "      <td>NaN</td>\n",
              "      <td>Aotizhongxin</td>\n",
              "    </tr>\n",
              "    <tr>\n",
              "      <th>freq</th>\n",
              "      <td>NaN</td>\n",
              "      <td>NaN</td>\n",
              "      <td>NaN</td>\n",
              "      <td>NaN</td>\n",
              "      <td>NaN</td>\n",
              "      <td>NaN</td>\n",
              "      <td>NaN</td>\n",
              "      <td>NaN</td>\n",
              "      <td>NaN</td>\n",
              "      <td>NaN</td>\n",
              "      <td>NaN</td>\n",
              "      <td>NaN</td>\n",
              "      <td>NaN</td>\n",
              "      <td>NaN</td>\n",
              "      <td>NaN</td>\n",
              "      <td>5221</td>\n",
              "      <td>NaN</td>\n",
              "      <td>35064</td>\n",
              "    </tr>\n",
              "    <tr>\n",
              "      <th>mean</th>\n",
              "      <td>17532.500000</td>\n",
              "      <td>2014.662560</td>\n",
              "      <td>6.522930</td>\n",
              "      <td>15.729637</td>\n",
              "      <td>11.500000</td>\n",
              "      <td>80.827438</td>\n",
              "      <td>107.929563</td>\n",
              "      <td>16.965895</td>\n",
              "      <td>58.334128</td>\n",
              "      <td>1219.236767</td>\n",
              "      <td>53.688705</td>\n",
              "      <td>13.578570</td>\n",
              "      <td>1011.853281</td>\n",
              "      <td>3.131320</td>\n",
              "      <td>0.067383</td>\n",
              "      <td>NaN</td>\n",
              "      <td>1.708293</td>\n",
              "      <td>NaN</td>\n",
              "    </tr>\n",
              "    <tr>\n",
              "      <th>std</th>\n",
              "      <td>10122.249256</td>\n",
              "      <td>1.177213</td>\n",
              "      <td>3.448752</td>\n",
              "      <td>8.800218</td>\n",
              "      <td>6.922285</td>\n",
              "      <td>81.902935</td>\n",
              "      <td>95.388384</td>\n",
              "      <td>22.652509</td>\n",
              "      <td>36.997826</td>\n",
              "      <td>1205.050802</td>\n",
              "      <td>57.685260</td>\n",
              "      <td>11.398647</td>\n",
              "      <td>10.404487</td>\n",
              "      <td>13.689356</td>\n",
              "      <td>0.909798</td>\n",
              "      <td>NaN</td>\n",
              "      <td>1.203874</td>\n",
              "      <td>NaN</td>\n",
              "    </tr>\n",
              "    <tr>\n",
              "      <th>min</th>\n",
              "      <td>1.000000</td>\n",
              "      <td>2013.000000</td>\n",
              "      <td>1.000000</td>\n",
              "      <td>1.000000</td>\n",
              "      <td>0.000000</td>\n",
              "      <td>3.000000</td>\n",
              "      <td>2.000000</td>\n",
              "      <td>0.285600</td>\n",
              "      <td>2.000000</td>\n",
              "      <td>100.000000</td>\n",
              "      <td>0.214200</td>\n",
              "      <td>-16.800000</td>\n",
              "      <td>985.900000</td>\n",
              "      <td>-35.300000</td>\n",
              "      <td>0.000000</td>\n",
              "      <td>NaN</td>\n",
              "      <td>0.000000</td>\n",
              "      <td>NaN</td>\n",
              "    </tr>\n",
              "    <tr>\n",
              "      <th>25%</th>\n",
              "      <td>8766.750000</td>\n",
              "      <td>2014.000000</td>\n",
              "      <td>4.000000</td>\n",
              "      <td>8.000000</td>\n",
              "      <td>5.750000</td>\n",
              "      <td>20.000000</td>\n",
              "      <td>35.000000</td>\n",
              "      <td>3.000000</td>\n",
              "      <td>28.000000</td>\n",
              "      <td>500.000000</td>\n",
              "      <td>5.000000</td>\n",
              "      <td>3.100000</td>\n",
              "      <td>1003.300000</td>\n",
              "      <td>-8.100000</td>\n",
              "      <td>0.000000</td>\n",
              "      <td>NaN</td>\n",
              "      <td>0.900000</td>\n",
              "      <td>NaN</td>\n",
              "    </tr>\n",
              "    <tr>\n",
              "      <th>50%</th>\n",
              "      <td>17532.500000</td>\n",
              "      <td>2015.000000</td>\n",
              "      <td>7.000000</td>\n",
              "      <td>16.000000</td>\n",
              "      <td>11.500000</td>\n",
              "      <td>56.000000</td>\n",
              "      <td>84.000000</td>\n",
              "      <td>8.000000</td>\n",
              "      <td>52.000000</td>\n",
              "      <td>800.000000</td>\n",
              "      <td>38.984400</td>\n",
              "      <td>14.500000</td>\n",
              "      <td>1011.400000</td>\n",
              "      <td>3.800000</td>\n",
              "      <td>0.000000</td>\n",
              "      <td>NaN</td>\n",
              "      <td>1.400000</td>\n",
              "      <td>NaN</td>\n",
              "    </tr>\n",
              "    <tr>\n",
              "      <th>75%</th>\n",
              "      <td>26298.250000</td>\n",
              "      <td>2016.000000</td>\n",
              "      <td>10.000000</td>\n",
              "      <td>23.000000</td>\n",
              "      <td>17.250000</td>\n",
              "      <td>112.000000</td>\n",
              "      <td>153.000000</td>\n",
              "      <td>21.000000</td>\n",
              "      <td>81.000000</td>\n",
              "      <td>1500.000000</td>\n",
              "      <td>80.000000</td>\n",
              "      <td>23.300000</td>\n",
              "      <td>1020.100000</td>\n",
              "      <td>15.700000</td>\n",
              "      <td>0.000000</td>\n",
              "      <td>NaN</td>\n",
              "      <td>2.200000</td>\n",
              "      <td>NaN</td>\n",
              "    </tr>\n",
              "    <tr>\n",
              "      <th>max</th>\n",
              "      <td>35064.000000</td>\n",
              "      <td>2017.000000</td>\n",
              "      <td>12.000000</td>\n",
              "      <td>31.000000</td>\n",
              "      <td>23.000000</td>\n",
              "      <td>898.000000</td>\n",
              "      <td>984.000000</td>\n",
              "      <td>341.000000</td>\n",
              "      <td>290.000000</td>\n",
              "      <td>10000.000000</td>\n",
              "      <td>423.000000</td>\n",
              "      <td>40.500000</td>\n",
              "      <td>1042.000000</td>\n",
              "      <td>28.500000</td>\n",
              "      <td>72.500000</td>\n",
              "      <td>NaN</td>\n",
              "      <td>11.200000</td>\n",
              "      <td>NaN</td>\n",
              "    </tr>\n",
              "  </tbody>\n",
              "</table>\n",
              "</div>"
            ],
            "text/plain": [
              "                  No          year         month           day          hour  \\\n",
              "count   35064.000000  35064.000000  35064.000000  35064.000000  35064.000000   \n",
              "unique           NaN           NaN           NaN           NaN           NaN   \n",
              "top              NaN           NaN           NaN           NaN           NaN   \n",
              "freq             NaN           NaN           NaN           NaN           NaN   \n",
              "mean    17532.500000   2014.662560      6.522930     15.729637     11.500000   \n",
              "std     10122.249256      1.177213      3.448752      8.800218      6.922285   \n",
              "min         1.000000   2013.000000      1.000000      1.000000      0.000000   \n",
              "25%      8766.750000   2014.000000      4.000000      8.000000      5.750000   \n",
              "50%     17532.500000   2015.000000      7.000000     16.000000     11.500000   \n",
              "75%     26298.250000   2016.000000     10.000000     23.000000     17.250000   \n",
              "max     35064.000000   2017.000000     12.000000     31.000000     23.000000   \n",
              "\n",
              "               PM2.5          PM10           SO2           NO2            CO  \\\n",
              "count   35064.000000  35064.000000  35064.000000  35064.000000  35064.000000   \n",
              "unique           NaN           NaN           NaN           NaN           NaN   \n",
              "top              NaN           NaN           NaN           NaN           NaN   \n",
              "freq             NaN           NaN           NaN           NaN           NaN   \n",
              "mean       80.827438    107.929563     16.965895     58.334128   1219.236767   \n",
              "std        81.902935     95.388384     22.652509     36.997826   1205.050802   \n",
              "min         3.000000      2.000000      0.285600      2.000000    100.000000   \n",
              "25%        20.000000     35.000000      3.000000     28.000000    500.000000   \n",
              "50%        56.000000     84.000000      8.000000     52.000000    800.000000   \n",
              "75%       112.000000    153.000000     21.000000     81.000000   1500.000000   \n",
              "max       898.000000    984.000000    341.000000    290.000000  10000.000000   \n",
              "\n",
              "                  O3          TEMP          PRES          DEWP          RAIN  \\\n",
              "count   35064.000000  35064.000000  35064.000000  35064.000000  35064.000000   \n",
              "unique           NaN           NaN           NaN           NaN           NaN   \n",
              "top              NaN           NaN           NaN           NaN           NaN   \n",
              "freq             NaN           NaN           NaN           NaN           NaN   \n",
              "mean       53.688705     13.578570   1011.853281      3.131320      0.067383   \n",
              "std        57.685260     11.398647     10.404487     13.689356      0.909798   \n",
              "min         0.214200    -16.800000    985.900000    -35.300000      0.000000   \n",
              "25%         5.000000      3.100000   1003.300000     -8.100000      0.000000   \n",
              "50%        38.984400     14.500000   1011.400000      3.800000      0.000000   \n",
              "75%        80.000000     23.300000   1020.100000     15.700000      0.000000   \n",
              "max       423.000000     40.500000   1042.000000     28.500000     72.500000   \n",
              "\n",
              "           wd          WSPM       station  \n",
              "count   35064  35064.000000         35064  \n",
              "unique     16           NaN             1  \n",
              "top        NE           NaN  Aotizhongxin  \n",
              "freq     5221           NaN         35064  \n",
              "mean      NaN      1.708293           NaN  \n",
              "std       NaN      1.203874           NaN  \n",
              "min       NaN      0.000000           NaN  \n",
              "25%       NaN      0.900000           NaN  \n",
              "50%       NaN      1.400000           NaN  \n",
              "75%       NaN      2.200000           NaN  \n",
              "max       NaN     11.200000           NaN  "
            ]
          },
          "execution_count": 318,
          "metadata": {},
          "output_type": "execute_result"
        }
      ],
      "source": [
        "Aotizhongxin_df.describe(include=\"all\")"
      ]
    },
    {
      "cell_type": "markdown",
      "metadata": {},
      "source": [
        "Berdasarkan hasil parameter statistik diatas akan memperoleh jumlah data air quality pada Aotizhongxin_df yaitu 35064 dengan PM2.5 antara 3.00 hingga 898.00 dengan rata-rata PM2.5 11.50 dengan standart deviation 81.90. Dengan hasil ini kita mendapatkan gambaran umum tentang data kualitas udara di lokasi Aotizhongxin."
      ]
    },
    {
      "cell_type": "code",
      "execution_count": 319,
      "metadata": {},
      "outputs": [
        {
          "data": {
            "text/html": [
              "<div>\n",
              "<style scoped>\n",
              "    .dataframe tbody tr th:only-of-type {\n",
              "        vertical-align: middle;\n",
              "    }\n",
              "\n",
              "    .dataframe tbody tr th {\n",
              "        vertical-align: top;\n",
              "    }\n",
              "\n",
              "    .dataframe thead tr th {\n",
              "        text-align: left;\n",
              "    }\n",
              "\n",
              "    .dataframe thead tr:last-of-type th {\n",
              "        text-align: right;\n",
              "    }\n",
              "</style>\n",
              "<table border=\"1\" class=\"dataframe\">\n",
              "  <thead>\n",
              "    <tr>\n",
              "      <th></th>\n",
              "      <th>No</th>\n",
              "      <th colspan=\"4\" halign=\"left\">PM2.5</th>\n",
              "    </tr>\n",
              "    <tr>\n",
              "      <th></th>\n",
              "      <th>nunique</th>\n",
              "      <th>max</th>\n",
              "      <th>min</th>\n",
              "      <th>mean</th>\n",
              "      <th>std</th>\n",
              "    </tr>\n",
              "    <tr>\n",
              "      <th>year</th>\n",
              "      <th></th>\n",
              "      <th></th>\n",
              "      <th></th>\n",
              "      <th></th>\n",
              "      <th></th>\n",
              "    </tr>\n",
              "  </thead>\n",
              "  <tbody>\n",
              "    <tr>\n",
              "      <th>2013</th>\n",
              "      <td>7344</td>\n",
              "      <td>665.0</td>\n",
              "      <td>3.0</td>\n",
              "      <td>82.282544</td>\n",
              "      <td>73.670282</td>\n",
              "    </tr>\n",
              "    <tr>\n",
              "      <th>2014</th>\n",
              "      <td>8760</td>\n",
              "      <td>584.0</td>\n",
              "      <td>3.0</td>\n",
              "      <td>86.080651</td>\n",
              "      <td>82.751569</td>\n",
              "    </tr>\n",
              "    <tr>\n",
              "      <th>2015</th>\n",
              "      <td>8760</td>\n",
              "      <td>657.0</td>\n",
              "      <td>3.0</td>\n",
              "      <td>80.315502</td>\n",
              "      <td>85.310796</td>\n",
              "    </tr>\n",
              "    <tr>\n",
              "      <th>2016</th>\n",
              "      <td>8784</td>\n",
              "      <td>898.0</td>\n",
              "      <td>3.0</td>\n",
              "      <td>72.792464</td>\n",
              "      <td>76.943086</td>\n",
              "    </tr>\n",
              "    <tr>\n",
              "      <th>2017</th>\n",
              "      <td>1416</td>\n",
              "      <td>713.0</td>\n",
              "      <td>3.0</td>\n",
              "      <td>93.793079</td>\n",
              "      <td>114.538183</td>\n",
              "    </tr>\n",
              "  </tbody>\n",
              "</table>\n",
              "</div>"
            ],
            "text/plain": [
              "          No  PM2.5                            \n",
              "     nunique    max  min       mean         std\n",
              "year                                           \n",
              "2013    7344  665.0  3.0  82.282544   73.670282\n",
              "2014    8760  584.0  3.0  86.080651   82.751569\n",
              "2015    8760  657.0  3.0  80.315502   85.310796\n",
              "2016    8784  898.0  3.0  72.792464   76.943086\n",
              "2017    1416  713.0  3.0  93.793079  114.538183"
            ]
          },
          "execution_count": 319,
          "metadata": {},
          "output_type": "execute_result"
        }
      ],
      "source": [
        "Aotizhongxin_df.groupby(by=\"year\").agg({\n",
        "    \"No\": \"nunique\",\n",
        "    \"PM2.5\": [\"max\", \"min\", \"mean\", \"std\"]\n",
        "})"
      ]
    },
    {
      "cell_type": "markdown",
      "metadata": {},
      "source": [
        "Berdasarkan pivot table diatas, dapat diketahui bahwa jumlah data terbanyak ada pada tahun 2016 dan tersedikit pada tahun 2017."
      ]
    },
    {
      "cell_type": "markdown",
      "metadata": {},
      "source": [
        "### Explore Data Changping"
      ]
    },
    {
      "cell_type": "markdown",
      "metadata": {},
      "source": [
        "Pada tahap eksplorasi data Changping, kita akan merangkum parameter statistik dari Changping_df menggunakan method describe()."
      ]
    },
    {
      "cell_type": "code",
      "execution_count": 320,
      "metadata": {},
      "outputs": [
        {
          "data": {
            "text/html": [
              "<div>\n",
              "<style scoped>\n",
              "    .dataframe tbody tr th:only-of-type {\n",
              "        vertical-align: middle;\n",
              "    }\n",
              "\n",
              "    .dataframe tbody tr th {\n",
              "        vertical-align: top;\n",
              "    }\n",
              "\n",
              "    .dataframe thead th {\n",
              "        text-align: right;\n",
              "    }\n",
              "</style>\n",
              "<table border=\"1\" class=\"dataframe\">\n",
              "  <thead>\n",
              "    <tr style=\"text-align: right;\">\n",
              "      <th></th>\n",
              "      <th>No</th>\n",
              "      <th>year</th>\n",
              "      <th>month</th>\n",
              "      <th>day</th>\n",
              "      <th>hour</th>\n",
              "      <th>PM2.5</th>\n",
              "      <th>PM10</th>\n",
              "      <th>SO2</th>\n",
              "      <th>NO2</th>\n",
              "      <th>CO</th>\n",
              "      <th>O3</th>\n",
              "      <th>TEMP</th>\n",
              "      <th>PRES</th>\n",
              "      <th>DEWP</th>\n",
              "      <th>RAIN</th>\n",
              "      <th>wd</th>\n",
              "      <th>WSPM</th>\n",
              "      <th>station</th>\n",
              "    </tr>\n",
              "  </thead>\n",
              "  <tbody>\n",
              "    <tr>\n",
              "      <th>count</th>\n",
              "      <td>35064.000000</td>\n",
              "      <td>35064.000000</td>\n",
              "      <td>35064.000000</td>\n",
              "      <td>35064.000000</td>\n",
              "      <td>35064.000000</td>\n",
              "      <td>35064.000000</td>\n",
              "      <td>35064.000000</td>\n",
              "      <td>35064.000000</td>\n",
              "      <td>35064.000000</td>\n",
              "      <td>35064.000000</td>\n",
              "      <td>35064.000000</td>\n",
              "      <td>35064.000000</td>\n",
              "      <td>35064.000000</td>\n",
              "      <td>35064.000000</td>\n",
              "      <td>35064.000000</td>\n",
              "      <td>35064</td>\n",
              "      <td>35064.000000</td>\n",
              "      <td>35064</td>\n",
              "    </tr>\n",
              "    <tr>\n",
              "      <th>unique</th>\n",
              "      <td>NaN</td>\n",
              "      <td>NaN</td>\n",
              "      <td>NaN</td>\n",
              "      <td>NaN</td>\n",
              "      <td>NaN</td>\n",
              "      <td>NaN</td>\n",
              "      <td>NaN</td>\n",
              "      <td>NaN</td>\n",
              "      <td>NaN</td>\n",
              "      <td>NaN</td>\n",
              "      <td>NaN</td>\n",
              "      <td>NaN</td>\n",
              "      <td>NaN</td>\n",
              "      <td>NaN</td>\n",
              "      <td>NaN</td>\n",
              "      <td>16</td>\n",
              "      <td>NaN</td>\n",
              "      <td>1</td>\n",
              "    </tr>\n",
              "    <tr>\n",
              "      <th>top</th>\n",
              "      <td>NaN</td>\n",
              "      <td>NaN</td>\n",
              "      <td>NaN</td>\n",
              "      <td>NaN</td>\n",
              "      <td>NaN</td>\n",
              "      <td>NaN</td>\n",
              "      <td>NaN</td>\n",
              "      <td>NaN</td>\n",
              "      <td>NaN</td>\n",
              "      <td>NaN</td>\n",
              "      <td>NaN</td>\n",
              "      <td>NaN</td>\n",
              "      <td>NaN</td>\n",
              "      <td>NaN</td>\n",
              "      <td>NaN</td>\n",
              "      <td>NNW</td>\n",
              "      <td>NaN</td>\n",
              "      <td>Changping</td>\n",
              "    </tr>\n",
              "    <tr>\n",
              "      <th>freq</th>\n",
              "      <td>NaN</td>\n",
              "      <td>NaN</td>\n",
              "      <td>NaN</td>\n",
              "      <td>NaN</td>\n",
              "      <td>NaN</td>\n",
              "      <td>NaN</td>\n",
              "      <td>NaN</td>\n",
              "      <td>NaN</td>\n",
              "      <td>NaN</td>\n",
              "      <td>NaN</td>\n",
              "      <td>NaN</td>\n",
              "      <td>NaN</td>\n",
              "      <td>NaN</td>\n",
              "      <td>NaN</td>\n",
              "      <td>NaN</td>\n",
              "      <td>4916</td>\n",
              "      <td>NaN</td>\n",
              "      <td>35064</td>\n",
              "    </tr>\n",
              "    <tr>\n",
              "      <th>mean</th>\n",
              "      <td>17532.500000</td>\n",
              "      <td>2014.662560</td>\n",
              "      <td>6.522930</td>\n",
              "      <td>15.729637</td>\n",
              "      <td>11.500000</td>\n",
              "      <td>69.773106</td>\n",
              "      <td>93.186308</td>\n",
              "      <td>14.726810</td>\n",
              "      <td>43.722085</td>\n",
              "      <td>1124.005932</td>\n",
              "      <td>56.976400</td>\n",
              "      <td>13.669959</td>\n",
              "      <td>1007.776305</td>\n",
              "      <td>1.528311</td>\n",
              "      <td>0.060278</td>\n",
              "      <td>NaN</td>\n",
              "      <td>1.853034</td>\n",
              "      <td>NaN</td>\n",
              "    </tr>\n",
              "    <tr>\n",
              "      <th>std</th>\n",
              "      <td>10122.249256</td>\n",
              "      <td>1.177213</td>\n",
              "      <td>3.448752</td>\n",
              "      <td>8.800218</td>\n",
              "      <td>6.922285</td>\n",
              "      <td>72.067198</td>\n",
              "      <td>83.518014</td>\n",
              "      <td>20.857574</td>\n",
              "      <td>29.423697</td>\n",
              "      <td>1087.018596</td>\n",
              "      <td>54.336505</td>\n",
              "      <td>11.364305</td>\n",
              "      <td>10.227169</td>\n",
              "      <td>13.824092</td>\n",
              "      <td>0.752355</td>\n",
              "      <td>NaN</td>\n",
              "      <td>1.309205</td>\n",
              "      <td>NaN</td>\n",
              "    </tr>\n",
              "    <tr>\n",
              "      <th>min</th>\n",
              "      <td>1.000000</td>\n",
              "      <td>2013.000000</td>\n",
              "      <td>1.000000</td>\n",
              "      <td>1.000000</td>\n",
              "      <td>0.000000</td>\n",
              "      <td>2.000000</td>\n",
              "      <td>2.000000</td>\n",
              "      <td>0.285600</td>\n",
              "      <td>1.847700</td>\n",
              "      <td>100.000000</td>\n",
              "      <td>0.214200</td>\n",
              "      <td>-16.600000</td>\n",
              "      <td>982.400000</td>\n",
              "      <td>-35.100000</td>\n",
              "      <td>0.000000</td>\n",
              "      <td>NaN</td>\n",
              "      <td>0.000000</td>\n",
              "      <td>NaN</td>\n",
              "    </tr>\n",
              "    <tr>\n",
              "      <th>25%</th>\n",
              "      <td>8766.750000</td>\n",
              "      <td>2014.000000</td>\n",
              "      <td>4.000000</td>\n",
              "      <td>8.000000</td>\n",
              "      <td>5.750000</td>\n",
              "      <td>17.000000</td>\n",
              "      <td>32.000000</td>\n",
              "      <td>2.000000</td>\n",
              "      <td>21.000000</td>\n",
              "      <td>500.000000</td>\n",
              "      <td>14.000000</td>\n",
              "      <td>3.400000</td>\n",
              "      <td>999.300000</td>\n",
              "      <td>-10.200000</td>\n",
              "      <td>0.000000</td>\n",
              "      <td>NaN</td>\n",
              "      <td>1.000000</td>\n",
              "      <td>NaN</td>\n",
              "    </tr>\n",
              "    <tr>\n",
              "      <th>50%</th>\n",
              "      <td>17532.500000</td>\n",
              "      <td>2015.000000</td>\n",
              "      <td>7.000000</td>\n",
              "      <td>16.000000</td>\n",
              "      <td>11.500000</td>\n",
              "      <td>45.000000</td>\n",
              "      <td>71.000000</td>\n",
              "      <td>6.000000</td>\n",
              "      <td>36.000000</td>\n",
              "      <td>700.000000</td>\n",
              "      <td>45.000000</td>\n",
              "      <td>14.600000</td>\n",
              "      <td>1007.400000</td>\n",
              "      <td>1.800000</td>\n",
              "      <td>0.000000</td>\n",
              "      <td>NaN</td>\n",
              "      <td>1.500000</td>\n",
              "      <td>NaN</td>\n",
              "    </tr>\n",
              "    <tr>\n",
              "      <th>75%</th>\n",
              "      <td>26298.250000</td>\n",
              "      <td>2016.000000</td>\n",
              "      <td>10.000000</td>\n",
              "      <td>23.000000</td>\n",
              "      <td>17.250000</td>\n",
              "      <td>98.000000</td>\n",
              "      <td>129.000000</td>\n",
              "      <td>18.000000</td>\n",
              "      <td>60.000000</td>\n",
              "      <td>1400.000000</td>\n",
              "      <td>79.000000</td>\n",
              "      <td>23.300000</td>\n",
              "      <td>1016.000000</td>\n",
              "      <td>14.300000</td>\n",
              "      <td>0.000000</td>\n",
              "      <td>NaN</td>\n",
              "      <td>2.300000</td>\n",
              "      <td>NaN</td>\n",
              "    </tr>\n",
              "    <tr>\n",
              "      <th>max</th>\n",
              "      <td>35064.000000</td>\n",
              "      <td>2017.000000</td>\n",
              "      <td>12.000000</td>\n",
              "      <td>31.000000</td>\n",
              "      <td>23.000000</td>\n",
              "      <td>882.000000</td>\n",
              "      <td>999.000000</td>\n",
              "      <td>310.000000</td>\n",
              "      <td>226.000000</td>\n",
              "      <td>10000.000000</td>\n",
              "      <td>429.000000</td>\n",
              "      <td>41.400000</td>\n",
              "      <td>1036.500000</td>\n",
              "      <td>27.200000</td>\n",
              "      <td>52.100000</td>\n",
              "      <td>NaN</td>\n",
              "      <td>10.000000</td>\n",
              "      <td>NaN</td>\n",
              "    </tr>\n",
              "  </tbody>\n",
              "</table>\n",
              "</div>"
            ],
            "text/plain": [
              "                  No          year         month           day          hour  \\\n",
              "count   35064.000000  35064.000000  35064.000000  35064.000000  35064.000000   \n",
              "unique           NaN           NaN           NaN           NaN           NaN   \n",
              "top              NaN           NaN           NaN           NaN           NaN   \n",
              "freq             NaN           NaN           NaN           NaN           NaN   \n",
              "mean    17532.500000   2014.662560      6.522930     15.729637     11.500000   \n",
              "std     10122.249256      1.177213      3.448752      8.800218      6.922285   \n",
              "min         1.000000   2013.000000      1.000000      1.000000      0.000000   \n",
              "25%      8766.750000   2014.000000      4.000000      8.000000      5.750000   \n",
              "50%     17532.500000   2015.000000      7.000000     16.000000     11.500000   \n",
              "75%     26298.250000   2016.000000     10.000000     23.000000     17.250000   \n",
              "max     35064.000000   2017.000000     12.000000     31.000000     23.000000   \n",
              "\n",
              "               PM2.5          PM10           SO2           NO2            CO  \\\n",
              "count   35064.000000  35064.000000  35064.000000  35064.000000  35064.000000   \n",
              "unique           NaN           NaN           NaN           NaN           NaN   \n",
              "top              NaN           NaN           NaN           NaN           NaN   \n",
              "freq             NaN           NaN           NaN           NaN           NaN   \n",
              "mean       69.773106     93.186308     14.726810     43.722085   1124.005932   \n",
              "std        72.067198     83.518014     20.857574     29.423697   1087.018596   \n",
              "min         2.000000      2.000000      0.285600      1.847700    100.000000   \n",
              "25%        17.000000     32.000000      2.000000     21.000000    500.000000   \n",
              "50%        45.000000     71.000000      6.000000     36.000000    700.000000   \n",
              "75%        98.000000    129.000000     18.000000     60.000000   1400.000000   \n",
              "max       882.000000    999.000000    310.000000    226.000000  10000.000000   \n",
              "\n",
              "                  O3          TEMP          PRES          DEWP          RAIN  \\\n",
              "count   35064.000000  35064.000000  35064.000000  35064.000000  35064.000000   \n",
              "unique           NaN           NaN           NaN           NaN           NaN   \n",
              "top              NaN           NaN           NaN           NaN           NaN   \n",
              "freq             NaN           NaN           NaN           NaN           NaN   \n",
              "mean       56.976400     13.669959   1007.776305      1.528311      0.060278   \n",
              "std        54.336505     11.364305     10.227169     13.824092      0.752355   \n",
              "min         0.214200    -16.600000    982.400000    -35.100000      0.000000   \n",
              "25%        14.000000      3.400000    999.300000    -10.200000      0.000000   \n",
              "50%        45.000000     14.600000   1007.400000      1.800000      0.000000   \n",
              "75%        79.000000     23.300000   1016.000000     14.300000      0.000000   \n",
              "max       429.000000     41.400000   1036.500000     27.200000     52.100000   \n",
              "\n",
              "           wd          WSPM    station  \n",
              "count   35064  35064.000000      35064  \n",
              "unique     16           NaN          1  \n",
              "top       NNW           NaN  Changping  \n",
              "freq     4916           NaN      35064  \n",
              "mean      NaN      1.853034        NaN  \n",
              "std       NaN      1.309205        NaN  \n",
              "min       NaN      0.000000        NaN  \n",
              "25%       NaN      1.000000        NaN  \n",
              "50%       NaN      1.500000        NaN  \n",
              "75%       NaN      2.300000        NaN  \n",
              "max       NaN     10.000000        NaN  "
            ]
          },
          "execution_count": 320,
          "metadata": {},
          "output_type": "execute_result"
        }
      ],
      "source": [
        "Changping_df.describe(include=\"all\")"
      ]
    },
    {
      "cell_type": "markdown",
      "metadata": {},
      "source": [
        "Berdasarkan hasil parameter statistik diatas akan memperoleh jumlah data air quality pada Chnagping_df yaitu 35064 dengan PM2.5 antara 2.0 hingga 882.0 dengan rata-rata PM2.5 69.7 dengan standart deviation 72.0. Dengan hasil ini kita mendapatkan gambaran umum tentang data kualitas udara di lokasi Changping."
      ]
    },
    {
      "cell_type": "code",
      "execution_count": 321,
      "metadata": {},
      "outputs": [
        {
          "data": {
            "text/html": [
              "<div>\n",
              "<style scoped>\n",
              "    .dataframe tbody tr th:only-of-type {\n",
              "        vertical-align: middle;\n",
              "    }\n",
              "\n",
              "    .dataframe tbody tr th {\n",
              "        vertical-align: top;\n",
              "    }\n",
              "\n",
              "    .dataframe thead tr th {\n",
              "        text-align: left;\n",
              "    }\n",
              "\n",
              "    .dataframe thead tr:last-of-type th {\n",
              "        text-align: right;\n",
              "    }\n",
              "</style>\n",
              "<table border=\"1\" class=\"dataframe\">\n",
              "  <thead>\n",
              "    <tr>\n",
              "      <th></th>\n",
              "      <th>No</th>\n",
              "      <th colspan=\"4\" halign=\"left\">PM2.5</th>\n",
              "    </tr>\n",
              "    <tr>\n",
              "      <th></th>\n",
              "      <th>nunique</th>\n",
              "      <th>max</th>\n",
              "      <th>min</th>\n",
              "      <th>mean</th>\n",
              "      <th>std</th>\n",
              "    </tr>\n",
              "    <tr>\n",
              "      <th>year</th>\n",
              "      <th></th>\n",
              "      <th></th>\n",
              "      <th></th>\n",
              "      <th></th>\n",
              "      <th></th>\n",
              "    </tr>\n",
              "  </thead>\n",
              "  <tbody>\n",
              "    <tr>\n",
              "      <th>2013</th>\n",
              "      <td>7344</td>\n",
              "      <td>443.0</td>\n",
              "      <td>2.0</td>\n",
              "      <td>72.367511</td>\n",
              "      <td>68.478459</td>\n",
              "    </tr>\n",
              "    <tr>\n",
              "      <th>2014</th>\n",
              "      <td>8760</td>\n",
              "      <td>581.0</td>\n",
              "      <td>3.0</td>\n",
              "      <td>77.216358</td>\n",
              "      <td>77.761860</td>\n",
              "    </tr>\n",
              "    <tr>\n",
              "      <th>2015</th>\n",
              "      <td>8760</td>\n",
              "      <td>500.0</td>\n",
              "      <td>3.0</td>\n",
              "      <td>67.394395</td>\n",
              "      <td>70.030840</td>\n",
              "    </tr>\n",
              "    <tr>\n",
              "      <th>2016</th>\n",
              "      <td>8784</td>\n",
              "      <td>882.0</td>\n",
              "      <td>3.0</td>\n",
              "      <td>60.998520</td>\n",
              "      <td>64.997763</td>\n",
              "    </tr>\n",
              "    <tr>\n",
              "      <th>2017</th>\n",
              "      <td>1416</td>\n",
              "      <td>662.0</td>\n",
              "      <td>3.0</td>\n",
              "      <td>79.418079</td>\n",
              "      <td>96.777602</td>\n",
              "    </tr>\n",
              "  </tbody>\n",
              "</table>\n",
              "</div>"
            ],
            "text/plain": [
              "          No  PM2.5                           \n",
              "     nunique    max  min       mean        std\n",
              "year                                          \n",
              "2013    7344  443.0  2.0  72.367511  68.478459\n",
              "2014    8760  581.0  3.0  77.216358  77.761860\n",
              "2015    8760  500.0  3.0  67.394395  70.030840\n",
              "2016    8784  882.0  3.0  60.998520  64.997763\n",
              "2017    1416  662.0  3.0  79.418079  96.777602"
            ]
          },
          "execution_count": 321,
          "metadata": {},
          "output_type": "execute_result"
        }
      ],
      "source": [
        "Changping_df.groupby(by=\"year\").agg({\n",
        "    \"No\": \"nunique\",\n",
        "    \"PM2.5\": [\"max\", \"min\", \"mean\", \"std\"]\n",
        "})"
      ]
    },
    {
      "cell_type": "markdown",
      "metadata": {},
      "source": [
        "Berdasarkan pivot table diatas, dapat diketahui bahwa jumlah data terbanyak ada pada tahun 2016 dan tersedikit pada tahun 2017."
      ]
    },
    {
      "cell_type": "markdown",
      "metadata": {},
      "source": [
        "### Explore Data Dongsi"
      ]
    },
    {
      "cell_type": "code",
      "execution_count": 322,
      "metadata": {},
      "outputs": [
        {
          "data": {
            "text/html": [
              "<div>\n",
              "<style scoped>\n",
              "    .dataframe tbody tr th:only-of-type {\n",
              "        vertical-align: middle;\n",
              "    }\n",
              "\n",
              "    .dataframe tbody tr th {\n",
              "        vertical-align: top;\n",
              "    }\n",
              "\n",
              "    .dataframe thead th {\n",
              "        text-align: right;\n",
              "    }\n",
              "</style>\n",
              "<table border=\"1\" class=\"dataframe\">\n",
              "  <thead>\n",
              "    <tr style=\"text-align: right;\">\n",
              "      <th></th>\n",
              "      <th>No</th>\n",
              "      <th>year</th>\n",
              "      <th>month</th>\n",
              "      <th>day</th>\n",
              "      <th>hour</th>\n",
              "      <th>PM2.5</th>\n",
              "      <th>PM10</th>\n",
              "      <th>SO2</th>\n",
              "      <th>NO2</th>\n",
              "      <th>CO</th>\n",
              "      <th>O3</th>\n",
              "      <th>TEMP</th>\n",
              "      <th>PRES</th>\n",
              "      <th>DEWP</th>\n",
              "      <th>RAIN</th>\n",
              "      <th>wd</th>\n",
              "      <th>WSPM</th>\n",
              "      <th>station</th>\n",
              "    </tr>\n",
              "  </thead>\n",
              "  <tbody>\n",
              "    <tr>\n",
              "      <th>count</th>\n",
              "      <td>35064.000000</td>\n",
              "      <td>35064.000000</td>\n",
              "      <td>35064.000000</td>\n",
              "      <td>35064.000000</td>\n",
              "      <td>35064.000000</td>\n",
              "      <td>35064.000000</td>\n",
              "      <td>35064.000000</td>\n",
              "      <td>35064.000000</td>\n",
              "      <td>35064.000000</td>\n",
              "      <td>35064.000000</td>\n",
              "      <td>35064.000000</td>\n",
              "      <td>35064.000000</td>\n",
              "      <td>35064.000000</td>\n",
              "      <td>35064.000000</td>\n",
              "      <td>35064.000000</td>\n",
              "      <td>35064</td>\n",
              "      <td>35064.000000</td>\n",
              "      <td>35064</td>\n",
              "    </tr>\n",
              "    <tr>\n",
              "      <th>unique</th>\n",
              "      <td>NaN</td>\n",
              "      <td>NaN</td>\n",
              "      <td>NaN</td>\n",
              "      <td>NaN</td>\n",
              "      <td>NaN</td>\n",
              "      <td>NaN</td>\n",
              "      <td>NaN</td>\n",
              "      <td>NaN</td>\n",
              "      <td>NaN</td>\n",
              "      <td>NaN</td>\n",
              "      <td>NaN</td>\n",
              "      <td>NaN</td>\n",
              "      <td>NaN</td>\n",
              "      <td>NaN</td>\n",
              "      <td>NaN</td>\n",
              "      <td>16</td>\n",
              "      <td>NaN</td>\n",
              "      <td>1</td>\n",
              "    </tr>\n",
              "    <tr>\n",
              "      <th>top</th>\n",
              "      <td>NaN</td>\n",
              "      <td>NaN</td>\n",
              "      <td>NaN</td>\n",
              "      <td>NaN</td>\n",
              "      <td>NaN</td>\n",
              "      <td>NaN</td>\n",
              "      <td>NaN</td>\n",
              "      <td>NaN</td>\n",
              "      <td>NaN</td>\n",
              "      <td>NaN</td>\n",
              "      <td>NaN</td>\n",
              "      <td>NaN</td>\n",
              "      <td>NaN</td>\n",
              "      <td>NaN</td>\n",
              "      <td>NaN</td>\n",
              "      <td>ENE</td>\n",
              "      <td>NaN</td>\n",
              "      <td>Dongsi</td>\n",
              "    </tr>\n",
              "    <tr>\n",
              "      <th>freq</th>\n",
              "      <td>NaN</td>\n",
              "      <td>NaN</td>\n",
              "      <td>NaN</td>\n",
              "      <td>NaN</td>\n",
              "      <td>NaN</td>\n",
              "      <td>NaN</td>\n",
              "      <td>NaN</td>\n",
              "      <td>NaN</td>\n",
              "      <td>NaN</td>\n",
              "      <td>NaN</td>\n",
              "      <td>NaN</td>\n",
              "      <td>NaN</td>\n",
              "      <td>NaN</td>\n",
              "      <td>NaN</td>\n",
              "      <td>NaN</td>\n",
              "      <td>3939</td>\n",
              "      <td>NaN</td>\n",
              "      <td>35064</td>\n",
              "    </tr>\n",
              "    <tr>\n",
              "      <th>mean</th>\n",
              "      <td>17532.500000</td>\n",
              "      <td>2014.662560</td>\n",
              "      <td>6.522930</td>\n",
              "      <td>15.729637</td>\n",
              "      <td>11.500000</td>\n",
              "      <td>84.414816</td>\n",
              "      <td>108.691230</td>\n",
              "      <td>18.218532</td>\n",
              "      <td>52.160748</td>\n",
              "      <td>1236.151409</td>\n",
              "      <td>56.165124</td>\n",
              "      <td>13.665403</td>\n",
              "      <td>1012.553381</td>\n",
              "      <td>2.456177</td>\n",
              "      <td>0.063983</td>\n",
              "      <td>NaN</td>\n",
              "      <td>1.860521</td>\n",
              "      <td>NaN</td>\n",
              "    </tr>\n",
              "    <tr>\n",
              "      <th>std</th>\n",
              "      <td>10122.249256</td>\n",
              "      <td>1.177213</td>\n",
              "      <td>3.448752</td>\n",
              "      <td>8.800218</td>\n",
              "      <td>6.922285</td>\n",
              "      <td>86.485888</td>\n",
              "      <td>98.305515</td>\n",
              "      <td>22.799513</td>\n",
              "      <td>33.912521</td>\n",
              "      <td>1173.768157</td>\n",
              "      <td>57.971671</td>\n",
              "      <td>11.457983</td>\n",
              "      <td>10.266164</td>\n",
              "      <td>13.811496</td>\n",
              "      <td>0.786059</td>\n",
              "      <td>NaN</td>\n",
              "      <td>1.280181</td>\n",
              "      <td>NaN</td>\n",
              "    </tr>\n",
              "    <tr>\n",
              "      <th>min</th>\n",
              "      <td>1.000000</td>\n",
              "      <td>2013.000000</td>\n",
              "      <td>1.000000</td>\n",
              "      <td>1.000000</td>\n",
              "      <td>0.000000</td>\n",
              "      <td>3.000000</td>\n",
              "      <td>2.000000</td>\n",
              "      <td>0.285600</td>\n",
              "      <td>2.000000</td>\n",
              "      <td>100.000000</td>\n",
              "      <td>0.642600</td>\n",
              "      <td>-16.800000</td>\n",
              "      <td>987.100000</td>\n",
              "      <td>-35.300000</td>\n",
              "      <td>0.000000</td>\n",
              "      <td>NaN</td>\n",
              "      <td>0.000000</td>\n",
              "      <td>NaN</td>\n",
              "    </tr>\n",
              "    <tr>\n",
              "      <th>25%</th>\n",
              "      <td>8766.750000</td>\n",
              "      <td>2014.000000</td>\n",
              "      <td>4.000000</td>\n",
              "      <td>8.000000</td>\n",
              "      <td>5.750000</td>\n",
              "      <td>21.000000</td>\n",
              "      <td>36.000000</td>\n",
              "      <td>3.000000</td>\n",
              "      <td>25.000000</td>\n",
              "      <td>400.000000</td>\n",
              "      <td>11.000000</td>\n",
              "      <td>3.100000</td>\n",
              "      <td>1004.000000</td>\n",
              "      <td>-8.800000</td>\n",
              "      <td>0.000000</td>\n",
              "      <td>NaN</td>\n",
              "      <td>1.000000</td>\n",
              "      <td>NaN</td>\n",
              "    </tr>\n",
              "    <tr>\n",
              "      <th>50%</th>\n",
              "      <td>17532.500000</td>\n",
              "      <td>2015.000000</td>\n",
              "      <td>7.000000</td>\n",
              "      <td>16.000000</td>\n",
              "      <td>11.500000</td>\n",
              "      <td>59.000000</td>\n",
              "      <td>85.000000</td>\n",
              "      <td>9.424800</td>\n",
              "      <td>45.000000</td>\n",
              "      <td>900.000000</td>\n",
              "      <td>43.000000</td>\n",
              "      <td>14.600000</td>\n",
              "      <td>1012.200000</td>\n",
              "      <td>3.100000</td>\n",
              "      <td>0.000000</td>\n",
              "      <td>NaN</td>\n",
              "      <td>1.500000</td>\n",
              "      <td>NaN</td>\n",
              "    </tr>\n",
              "    <tr>\n",
              "      <th>75%</th>\n",
              "      <td>26298.250000</td>\n",
              "      <td>2016.000000</td>\n",
              "      <td>10.000000</td>\n",
              "      <td>23.000000</td>\n",
              "      <td>17.250000</td>\n",
              "      <td>117.000000</td>\n",
              "      <td>150.000000</td>\n",
              "      <td>24.000000</td>\n",
              "      <td>72.000000</td>\n",
              "      <td>1600.000000</td>\n",
              "      <td>80.000000</td>\n",
              "      <td>23.500000</td>\n",
              "      <td>1020.900000</td>\n",
              "      <td>15.000000</td>\n",
              "      <td>0.000000</td>\n",
              "      <td>NaN</td>\n",
              "      <td>2.400000</td>\n",
              "      <td>NaN</td>\n",
              "    </tr>\n",
              "    <tr>\n",
              "      <th>max</th>\n",
              "      <td>35064.000000</td>\n",
              "      <td>2017.000000</td>\n",
              "      <td>12.000000</td>\n",
              "      <td>31.000000</td>\n",
              "      <td>23.000000</td>\n",
              "      <td>737.000000</td>\n",
              "      <td>955.000000</td>\n",
              "      <td>300.000000</td>\n",
              "      <td>258.000000</td>\n",
              "      <td>10000.000000</td>\n",
              "      <td>1071.000000</td>\n",
              "      <td>41.100000</td>\n",
              "      <td>1042.000000</td>\n",
              "      <td>28.800000</td>\n",
              "      <td>46.400000</td>\n",
              "      <td>NaN</td>\n",
              "      <td>10.500000</td>\n",
              "      <td>NaN</td>\n",
              "    </tr>\n",
              "  </tbody>\n",
              "</table>\n",
              "</div>"
            ],
            "text/plain": [
              "                  No          year         month           day          hour  \\\n",
              "count   35064.000000  35064.000000  35064.000000  35064.000000  35064.000000   \n",
              "unique           NaN           NaN           NaN           NaN           NaN   \n",
              "top              NaN           NaN           NaN           NaN           NaN   \n",
              "freq             NaN           NaN           NaN           NaN           NaN   \n",
              "mean    17532.500000   2014.662560      6.522930     15.729637     11.500000   \n",
              "std     10122.249256      1.177213      3.448752      8.800218      6.922285   \n",
              "min         1.000000   2013.000000      1.000000      1.000000      0.000000   \n",
              "25%      8766.750000   2014.000000      4.000000      8.000000      5.750000   \n",
              "50%     17532.500000   2015.000000      7.000000     16.000000     11.500000   \n",
              "75%     26298.250000   2016.000000     10.000000     23.000000     17.250000   \n",
              "max     35064.000000   2017.000000     12.000000     31.000000     23.000000   \n",
              "\n",
              "               PM2.5          PM10           SO2           NO2            CO  \\\n",
              "count   35064.000000  35064.000000  35064.000000  35064.000000  35064.000000   \n",
              "unique           NaN           NaN           NaN           NaN           NaN   \n",
              "top              NaN           NaN           NaN           NaN           NaN   \n",
              "freq             NaN           NaN           NaN           NaN           NaN   \n",
              "mean       84.414816    108.691230     18.218532     52.160748   1236.151409   \n",
              "std        86.485888     98.305515     22.799513     33.912521   1173.768157   \n",
              "min         3.000000      2.000000      0.285600      2.000000    100.000000   \n",
              "25%        21.000000     36.000000      3.000000     25.000000    400.000000   \n",
              "50%        59.000000     85.000000      9.424800     45.000000    900.000000   \n",
              "75%       117.000000    150.000000     24.000000     72.000000   1600.000000   \n",
              "max       737.000000    955.000000    300.000000    258.000000  10000.000000   \n",
              "\n",
              "                  O3          TEMP          PRES          DEWP          RAIN  \\\n",
              "count   35064.000000  35064.000000  35064.000000  35064.000000  35064.000000   \n",
              "unique           NaN           NaN           NaN           NaN           NaN   \n",
              "top              NaN           NaN           NaN           NaN           NaN   \n",
              "freq             NaN           NaN           NaN           NaN           NaN   \n",
              "mean       56.165124     13.665403   1012.553381      2.456177      0.063983   \n",
              "std        57.971671     11.457983     10.266164     13.811496      0.786059   \n",
              "min         0.642600    -16.800000    987.100000    -35.300000      0.000000   \n",
              "25%        11.000000      3.100000   1004.000000     -8.800000      0.000000   \n",
              "50%        43.000000     14.600000   1012.200000      3.100000      0.000000   \n",
              "75%        80.000000     23.500000   1020.900000     15.000000      0.000000   \n",
              "max      1071.000000     41.100000   1042.000000     28.800000     46.400000   \n",
              "\n",
              "           wd          WSPM station  \n",
              "count   35064  35064.000000   35064  \n",
              "unique     16           NaN       1  \n",
              "top       ENE           NaN  Dongsi  \n",
              "freq     3939           NaN   35064  \n",
              "mean      NaN      1.860521     NaN  \n",
              "std       NaN      1.280181     NaN  \n",
              "min       NaN      0.000000     NaN  \n",
              "25%       NaN      1.000000     NaN  \n",
              "50%       NaN      1.500000     NaN  \n",
              "75%       NaN      2.400000     NaN  \n",
              "max       NaN     10.500000     NaN  "
            ]
          },
          "execution_count": 322,
          "metadata": {},
          "output_type": "execute_result"
        }
      ],
      "source": [
        "Dongsi_df.describe(include=\"all\")"
      ]
    },
    {
      "cell_type": "markdown",
      "metadata": {},
      "source": [
        "Berdasarkan hasil parameter statistik diatas akan memperoleh jumlah data air quality pada Dongsi_df yaitu 35064 dengan PM2.5 antara 3.0 hingga 737.0 dengan rata-rata PM2.5 84.4 dengan standart deviation 86.4. Dengan hasil ini kita mendapatkan gambaran umum tentang data kualitas udara di lokasi Dongsi."
      ]
    },
    {
      "cell_type": "code",
      "execution_count": 323,
      "metadata": {
        "id": "Xo68yguo9LTl"
      },
      "outputs": [
        {
          "data": {
            "text/html": [
              "<div>\n",
              "<style scoped>\n",
              "    .dataframe tbody tr th:only-of-type {\n",
              "        vertical-align: middle;\n",
              "    }\n",
              "\n",
              "    .dataframe tbody tr th {\n",
              "        vertical-align: top;\n",
              "    }\n",
              "\n",
              "    .dataframe thead th {\n",
              "        text-align: right;\n",
              "    }\n",
              "</style>\n",
              "<table border=\"1\" class=\"dataframe\">\n",
              "  <thead>\n",
              "    <tr style=\"text-align: right;\">\n",
              "      <th></th>\n",
              "      <th>No</th>\n",
              "      <th>year</th>\n",
              "      <th>month</th>\n",
              "      <th>day</th>\n",
              "      <th>hour</th>\n",
              "      <th>PM2.5</th>\n",
              "      <th>PM10</th>\n",
              "      <th>SO2</th>\n",
              "      <th>NO2</th>\n",
              "      <th>CO</th>\n",
              "      <th>O3</th>\n",
              "      <th>TEMP</th>\n",
              "      <th>PRES</th>\n",
              "      <th>DEWP</th>\n",
              "      <th>RAIN</th>\n",
              "      <th>wd</th>\n",
              "      <th>WSPM</th>\n",
              "      <th>station</th>\n",
              "    </tr>\n",
              "  </thead>\n",
              "  <tbody>\n",
              "    <tr>\n",
              "      <th>0</th>\n",
              "      <td>1</td>\n",
              "      <td>2013</td>\n",
              "      <td>3</td>\n",
              "      <td>1</td>\n",
              "      <td>0</td>\n",
              "      <td>4.0</td>\n",
              "      <td>4.0</td>\n",
              "      <td>4.0</td>\n",
              "      <td>7.0</td>\n",
              "      <td>300.0</td>\n",
              "      <td>77.0</td>\n",
              "      <td>-0.7</td>\n",
              "      <td>1023.0</td>\n",
              "      <td>-18.8</td>\n",
              "      <td>0.0</td>\n",
              "      <td>NNW</td>\n",
              "      <td>4.4</td>\n",
              "      <td>Aotizhongxin</td>\n",
              "    </tr>\n",
              "    <tr>\n",
              "      <th>1</th>\n",
              "      <td>2</td>\n",
              "      <td>2013</td>\n",
              "      <td>3</td>\n",
              "      <td>1</td>\n",
              "      <td>1</td>\n",
              "      <td>8.0</td>\n",
              "      <td>8.0</td>\n",
              "      <td>4.0</td>\n",
              "      <td>7.0</td>\n",
              "      <td>300.0</td>\n",
              "      <td>77.0</td>\n",
              "      <td>-1.1</td>\n",
              "      <td>1023.2</td>\n",
              "      <td>-18.2</td>\n",
              "      <td>0.0</td>\n",
              "      <td>N</td>\n",
              "      <td>4.7</td>\n",
              "      <td>Aotizhongxin</td>\n",
              "    </tr>\n",
              "    <tr>\n",
              "      <th>2</th>\n",
              "      <td>3</td>\n",
              "      <td>2013</td>\n",
              "      <td>3</td>\n",
              "      <td>1</td>\n",
              "      <td>2</td>\n",
              "      <td>7.0</td>\n",
              "      <td>7.0</td>\n",
              "      <td>5.0</td>\n",
              "      <td>10.0</td>\n",
              "      <td>300.0</td>\n",
              "      <td>73.0</td>\n",
              "      <td>-1.1</td>\n",
              "      <td>1023.5</td>\n",
              "      <td>-18.2</td>\n",
              "      <td>0.0</td>\n",
              "      <td>NNW</td>\n",
              "      <td>5.6</td>\n",
              "      <td>Aotizhongxin</td>\n",
              "    </tr>\n",
              "    <tr>\n",
              "      <th>3</th>\n",
              "      <td>4</td>\n",
              "      <td>2013</td>\n",
              "      <td>3</td>\n",
              "      <td>1</td>\n",
              "      <td>3</td>\n",
              "      <td>6.0</td>\n",
              "      <td>6.0</td>\n",
              "      <td>11.0</td>\n",
              "      <td>11.0</td>\n",
              "      <td>300.0</td>\n",
              "      <td>72.0</td>\n",
              "      <td>-1.4</td>\n",
              "      <td>1024.5</td>\n",
              "      <td>-19.4</td>\n",
              "      <td>0.0</td>\n",
              "      <td>NW</td>\n",
              "      <td>3.1</td>\n",
              "      <td>Aotizhongxin</td>\n",
              "    </tr>\n",
              "    <tr>\n",
              "      <th>4</th>\n",
              "      <td>5</td>\n",
              "      <td>2013</td>\n",
              "      <td>3</td>\n",
              "      <td>1</td>\n",
              "      <td>4</td>\n",
              "      <td>3.0</td>\n",
              "      <td>3.0</td>\n",
              "      <td>12.0</td>\n",
              "      <td>12.0</td>\n",
              "      <td>300.0</td>\n",
              "      <td>72.0</td>\n",
              "      <td>-2.0</td>\n",
              "      <td>1025.2</td>\n",
              "      <td>-19.5</td>\n",
              "      <td>0.0</td>\n",
              "      <td>N</td>\n",
              "      <td>2.0</td>\n",
              "      <td>Aotizhongxin</td>\n",
              "    </tr>\n",
              "  </tbody>\n",
              "</table>\n",
              "</div>"
            ],
            "text/plain": [
              "   No  year  month  day  hour  PM2.5  PM10   SO2   NO2     CO    O3  TEMP  \\\n",
              "0   1  2013      3    1     0    4.0   4.0   4.0   7.0  300.0  77.0  -0.7   \n",
              "1   2  2013      3    1     1    8.0   8.0   4.0   7.0  300.0  77.0  -1.1   \n",
              "2   3  2013      3    1     2    7.0   7.0   5.0  10.0  300.0  73.0  -1.1   \n",
              "3   4  2013      3    1     3    6.0   6.0  11.0  11.0  300.0  72.0  -1.4   \n",
              "4   5  2013      3    1     4    3.0   3.0  12.0  12.0  300.0  72.0  -2.0   \n",
              "\n",
              "     PRES  DEWP  RAIN   wd  WSPM       station  \n",
              "0  1023.0 -18.8   0.0  NNW   4.4  Aotizhongxin  \n",
              "1  1023.2 -18.2   0.0    N   4.7  Aotizhongxin  \n",
              "2  1023.5 -18.2   0.0  NNW   5.6  Aotizhongxin  \n",
              "3  1024.5 -19.4   0.0   NW   3.1  Aotizhongxin  \n",
              "4  1025.2 -19.5   0.0    N   2.0  Aotizhongxin  "
            ]
          },
          "execution_count": 323,
          "metadata": {},
          "output_type": "execute_result"
        }
      ],
      "source": [
        "# Menggabungkan data dari berbagai lokasi berbeda\n",
        "allData_df = pd.concat([Aotizhongxin_df, Changping_df, Dongsi_df], ignore_index=True)\n",
        "allData_df.head()"
      ]
    },
    {
      "cell_type": "markdown",
      "metadata": {
        "id": "SCNmtOLp9OKB"
      },
      "source": [
        "## Visualization & Explanatory Analysis"
      ]
    },
    {
      "cell_type": "markdown",
      "metadata": {
        "id": "SG59_Fbj9Qr6"
      },
      "source": [
        "### Pertanyaan 1:"
      ]
    },
    {
      "cell_type": "code",
      "execution_count": 330,
      "metadata": {
        "id": "dtRoaxqd9PdU"
      },
      "outputs": [
        {
          "data": {
            "image/png": "[encoded data removed]",
            "text/plain": [
              "<Figure size 864x432 with 1 Axes>"
            ]
          },
          "metadata": {
            "needs_background": "light"
          },
          "output_type": "display_data"
        }
      ],
      "source": [
        "plt.figure(figsize=(12, 6))\n",
        "sns.lineplot(x='year', y='PM2.5',hue=\"station\", data=allData_df, marker='o')\n",
        "plt.title('Perbandingan Kualitas Udara PM2.5 di Lokasi Berbeda')\n",
        "plt.xlabel('Year')\n",
        "plt.ylabel('PM2.5')\n",
        "plt.legend(title='Lokasi(station)')\n",
        "plt.show()\n"
      ]
    },
    {
      "cell_type": "markdown",
      "metadata": {},
      "source": [
        "Berdasarkan hasil visualisasi diatas, seperti yang bisa kita lihat terjadi peningkatan kualitas udara pada tahun 2015 di ketiga lokasi. Akan tetapi, kita dapat melihat bahwa penurunan kualitas udara mengalami peningkatan tertinggi pada tahun 2016 dikarenakan naiknya PM2.5. Hal ini tentunya akan berpengaruh pada temp tiga lokasi tersebut."
      ]
    },
    {
      "cell_type": "markdown",
      "metadata": {
        "id": "F2Bo_ypQ9RfH"
      },
      "source": [
        "### Pertanyaan 2:"
      ]
    },
    {
      "cell_type": "code",
      "execution_count": 325,
      "metadata": {
        "id": "jkO5kTJq9S1Y"
      },
      "outputs": [
        {
          "data": {
            "text/html": [
              "<div>\n",
              "<style scoped>\n",
              "    .dataframe tbody tr th:only-of-type {\n",
              "        vertical-align: middle;\n",
              "    }\n",
              "\n",
              "    .dataframe tbody tr th {\n",
              "        vertical-align: top;\n",
              "    }\n",
              "\n",
              "    .dataframe thead th {\n",
              "        text-align: right;\n",
              "    }\n",
              "</style>\n",
              "<table border=\"1\" class=\"dataframe\">\n",
              "  <thead>\n",
              "    <tr style=\"text-align: right;\">\n",
              "      <th></th>\n",
              "      <th>station</th>\n",
              "      <th>PM2.5</th>\n",
              "    </tr>\n",
              "  </thead>\n",
              "  <tbody>\n",
              "    <tr>\n",
              "      <th>0</th>\n",
              "      <td>Dongsi</td>\n",
              "      <td>2959921.1</td>\n",
              "    </tr>\n",
              "    <tr>\n",
              "      <th>1</th>\n",
              "      <td>Aotizhongxin</td>\n",
              "      <td>2834133.3</td>\n",
              "    </tr>\n",
              "    <tr>\n",
              "      <th>2</th>\n",
              "      <td>Changping</td>\n",
              "      <td>2446524.2</td>\n",
              "    </tr>\n",
              "  </tbody>\n",
              "</table>\n",
              "</div>"
            ],
            "text/plain": [
              "        station      PM2.5\n",
              "0        Dongsi  2959921.1\n",
              "1  Aotizhongxin  2834133.3\n",
              "2     Changping  2446524.2"
            ]
          },
          "execution_count": 325,
          "metadata": {},
          "output_type": "execute_result"
        }
      ],
      "source": [
        "sumQuality = allData_df.groupby(\"station\")['PM2.5'].sum().sort_values(ascending=False).reset_index()\n",
        "sumQuality.head()"
      ]
    },
    {
      "cell_type": "code",
      "execution_count": 326,
      "metadata": {},
      "outputs": [
        {
          "name": "stderr",
          "output_type": "stream",
          "text": [
            "/var/folders/bd/sjg8fqpj5hzfs7swcf768b540000gn/T/ipykernel_41588/2961551971.py:2: FutureWarning: \n",
            "\n",
            "Passing `palette` without assigning `hue` is deprecated and will be removed in v0.14.0. Assign the `x` variable to `hue` and set `legend=False` for the same effect.\n",
            "\n",
            "  sns.barplot(x='station', y='PM2.5', data=sumQuality, palette='viridis')\n"
          ]
        },
        {
          "data": {
            "image/png": "[encoded data removed]",
            "text/plain": [
              "<Figure size 864x432 with 1 Axes>"
            ]
          },
          "metadata": {
            "needs_background": "light"
          },
          "output_type": "display_data"
        }
      ],
      "source": [
        "plt.figure(figsize=(12, 6))\n",
        "sns.barplot(x='station', y='PM2.5', data=sumQuality, palette='viridis')\n",
        "plt.title('Total PM2.5 by Station')\n",
        "plt.xlabel('Station')\n",
        "plt.ylabel('Total PM2.5')\n",
        "plt.xticks(rotation=45, ha='right')\n",
        "plt.show()"
      ]
    },
    {
      "cell_type": "markdown",
      "metadata": {},
      "source": [
        "Berdasarkan hasil visualisasi diatas, seperti yang bisa tingkat udara yang paling baik ada pada lokasi Changping dan yang terendah pada lokasi Dongsi."
      ]
    },
    {
      "cell_type": "markdown",
      "metadata": {
        "id": "J2CnXYGT9Tc2"
      },
      "source": [
        "## Conclusion"
      ]
    },
    {
      "cell_type": "markdown",
      "metadata": {
        "id": "f73FBkLw9V8C"
      },
      "source": [
        "- Kesimpulan dari analisis peningkatan kualitas udara yang signifikan pada lokasi Changping pada tahun 2014 hingga akhir 2015, ini menandakan kualitas udara pada lokasi tersebut terus membaik meskipun mengalami penurunan pada tahun 2016 hingga 2017.\n",
        "- Station yang memiliki tingkat udara yang baik ada pada lokasi Changping, akan tetapi pada lokasi Dongsi mengalami penurunan yang lumayan signifikan pada kualitas udara. Maka dari itu, dari hasil analisa ini diharapkan pemerintah ataupun masyarakat agar lebih aware terhadap masalah kualitas udara di station Changping."
      ]
    }
  ],
  "metadata": {
    "colab": {
      "provenance": []
    },
    "kernelspec": {
      "display_name": "Python 3",
      "name": "python3"
    },
    "language_info": {
      "codemirror_mode": {
        "name": "ipython",
        "version": 3
      },
      "file_extension": ".py",
      "mimetype": "text/x-python",
      "name": "python",
      "nbconvert_exporter": "python",
      "pygments_lexer": "ipython3",
      "version": "3.10.2"
    }
  },
  "nbformat": 4,
  "nbformat_minor": 0
}
